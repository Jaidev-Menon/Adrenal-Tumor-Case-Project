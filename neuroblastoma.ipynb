{
 "cells": [
  {
   "cell_type": "code",
   "execution_count": null,
   "id": "ea14bbb8-e5ff-4a84-b417-b1af593d6cbb",
   "metadata": {},
   "outputs": [],
   "source": []
  },
  {
   "cell_type": "code",
   "execution_count": 1,
   "id": "8e4a2e11-845e-4e37-8c12-d8a4164ca75a",
   "metadata": {},
   "outputs": [
    {
     "name": "stdout",
     "output_type": "stream",
     "text": [
      "sup\n"
     ]
    }
   ],
   "source": [
    "print(\"sup\")"
   ]
  },
  {
   "cell_type": "code",
   "execution_count": null,
   "id": "1d1cb71b-c876-48fe-8775-f454b7c9b7ec",
   "metadata": {
    "editable": true,
    "slideshow": {
     "slide_type": ""
    },
    "tags": []
   },
   "outputs": [],
   "source": [
    "import pandas as pd\n",
    "import sys"
   ]
  },
  {
   "cell_type": "code",
   "execution_count": 48,
   "id": "393b670d-c024-42b0-b371-4d9c393a7e29",
   "metadata": {},
   "outputs": [],
   "source": [
    "neuro = pd.read_csv('./Documents/adrenal_gland_cancer/neuroblastoma.csv')"
   ]
  },
  {
   "cell_type": "code",
   "execution_count": 4,
   "id": "3d92a2f5-d255-4e5f-b2d1-1440287d8dd7",
   "metadata": {},
   "outputs": [
    {
     "data": {
      "text/plain": [
       "<bound method NDFrame.head of            TARGET USI  Gender                       Race  \\\n",
       "0    TARGET-30-PAAPFA    Male                      White   \n",
       "1    TARGET-30-PACLJN    Male                      White   \n",
       "2    TARGET-30-PACPJG  Female                      White   \n",
       "3    TARGET-30-PACRYY    Male                    Unknown   \n",
       "4    TARGET-30-PACRZM    Male                      White   \n",
       "..                ...     ...                        ...   \n",
       "615  TARGET-30-PATILE    Male                      White   \n",
       "616  TARGET-30-PATINJ    Male                      White   \n",
       "617  TARGET-30-PATNKP    Male                      White   \n",
       "618  TARGET-30-PATYIL  Female                      White   \n",
       "619  TARGET-30-PAUDDK    Male  Black or African American   \n",
       "\n",
       "                  Ethnicity  Age at Diagnosis in Days First Event  \\\n",
       "0    Not Hispanic or Latino                      1762       Event   \n",
       "1    Not Hispanic or Latino                      1475    Censored   \n",
       "2    Not Hispanic or Latino                       760         NaN   \n",
       "3        Hispanic or Latino                      1314    Censored   \n",
       "4    Not Hispanic or Latino                      3686       Event   \n",
       "..                      ...                       ...         ...   \n",
       "615  Not Hispanic or Latino                       824       Death   \n",
       "616  Not Hispanic or Latino                      1037     Relapse   \n",
       "617  Not Hispanic or Latino                      3446       Event   \n",
       "618  Not Hispanic or Latino                       328     Relapse   \n",
       "619  Not Hispanic or Latino                       361       Event   \n",
       "\n",
       "     Event Free Survival Time in Days Vital Status  \\\n",
       "0                               444.0         Dead   \n",
       "1                              5550.0        Alive   \n",
       "2                                 NaN      Unknown   \n",
       "3                              5296.0        Alive   \n",
       "4                               922.0         Dead   \n",
       "..                                ...          ...   \n",
       "615                             306.0         Dead   \n",
       "616                             736.0         Dead   \n",
       "617                             616.0         Dead   \n",
       "618                             239.0         Dead   \n",
       "619                             344.0        Alive   \n",
       "\n",
       "     Overall Survival Time in Days  Year of Diagnosis  ...     COG Risk Group  \\\n",
       "0                            487.0               1986  ...          High Risk   \n",
       "1                           5550.0               1986  ...          High Risk   \n",
       "2                              NaN               1987  ...            Unknown   \n",
       "3                           5296.0               1987  ...          High Risk   \n",
       "4                            922.0               1987  ...          High Risk   \n",
       "..                             ...                ...  ...                ...   \n",
       "615                          306.0               2010  ...          High Risk   \n",
       "616                          822.0               2010  ...          High Risk   \n",
       "617                         1549.0               2010  ...          High Risk   \n",
       "618                          481.0               2011  ...  Intermediate Risk   \n",
       "619                         2569.0               2011  ...  Intermediate Risk   \n",
       "\n",
       "    Percent Tumor Percent Necrosis Percent Tumor v/s Stroma  \\\n",
       "0             NaN              NaN                      NaN   \n",
       "1             NaN              NaN                      NaN   \n",
       "2             NaN              NaN                      NaN   \n",
       "3             NaN              NaN                      NaN   \n",
       "4             NaN              NaN                      NaN   \n",
       "..            ...              ...                      ...   \n",
       "615            75               90                    75/25   \n",
       "616            75               10                    75/25   \n",
       "617            90              NaN                      NaN   \n",
       "618            70            20-30                    70/30   \n",
       "619            70              NaN                      NaN   \n",
       "\n",
       "    Sites of Disease Involvement                 Site of Relapse  \\\n",
       "0                            NaN                             NaN   \n",
       "1                            NaN                             NaN   \n",
       "2                            NaN                             NaN   \n",
       "3                            NaN                             NaN   \n",
       "4                            NaN                             NaN   \n",
       "..                           ...                             ...   \n",
       "615                          NaN                             NaN   \n",
       "616                          NaN  Bone; Bone Marrow; Lymph Nodes   \n",
       "617                          NaN                             NaN   \n",
       "618                          NaN              Primary site; Bone   \n",
       "619                          NaN                             NaN   \n",
       "\n",
       "    Relapse Percent Tumor Relapse Percent Necrosis  \\\n",
       "0                     NaN                      NaN   \n",
       "1                     NaN                      NaN   \n",
       "2                     NaN                      NaN   \n",
       "3                     NaN                      NaN   \n",
       "4                     NaN                      NaN   \n",
       "..                    ...                      ...   \n",
       "615                   NaN                      NaN   \n",
       "616                   NaN                      NaN   \n",
       "617                    98                      1.0   \n",
       "618                    80                      5.0   \n",
       "619                 90-95                      5.0   \n",
       "\n",
       "    Relapse Percent Tumor v/s Stroma  \\\n",
       "0                                NaN   \n",
       "1                                NaN   \n",
       "2                                NaN   \n",
       "3                                NaN   \n",
       "4                                NaN   \n",
       "..                               ...   \n",
       "615                              NaN   \n",
       "616                              NaN   \n",
       "617                              NaN   \n",
       "618                              NaN   \n",
       "619                              NaN   \n",
       "\n",
       "                                               Comment  \n",
       "0                                                  NaN  \n",
       "1                                                  NaN  \n",
       "2                                                  NaN  \n",
       "3                                                  NaN  \n",
       "4                                                  NaN  \n",
       "..                                                 ...  \n",
       "615                                                NaN  \n",
       "616                                                NaN  \n",
       "617  hyperdiploid miscoded as diploid/hypodiploid i...  \n",
       "618                                                NaN  \n",
       "619  hyperdiploid miscoded as diploid/hypodiploid i...  \n",
       "\n",
       "[620 rows x 32 columns]>"
      ]
     },
     "execution_count": 4,
     "metadata": {},
     "output_type": "execute_result"
    }
   ],
   "source": [
    "neuro.head"
   ]
  },
  {
   "cell_type": "code",
   "execution_count": 50,
   "id": "83057d81-eb1e-4618-950a-257d6b8d92fb",
   "metadata": {},
   "outputs": [],
   "source": [
    "neuro2 = pd.read_csv('./Documents/adrenal_gland_cancer/neuroblastoma_2.csv')"
   ]
  },
  {
   "cell_type": "code",
   "execution_count": 6,
   "id": "f6461e00-5ec7-4885-ac35-05c37b4218d0",
   "metadata": {},
   "outputs": [
    {
     "data": {
      "text/plain": [
       "<bound method NDFrame.head of            TARGET USI  Gender                       Race  \\\n",
       "0    TARGET-30-PARPUF    Male                      White   \n",
       "1    TARGET-30-PARSVF    Male                      White   \n",
       "2    TARGET-30-PARSXI  Female                      White   \n",
       "3    TARGET-30-PARSZV    Male                      White   \n",
       "4    TARGET-30-PARTCE    Male                      White   \n",
       "..                ...     ...                        ...   \n",
       "494  TARGET-30-PAVDPE    Male                      White   \n",
       "495  TARGET-30-PAVDYS    Male  Black or African American   \n",
       "496  TARGET-30-PAVEKN  Female                      White   \n",
       "497  TARGET-30-PAVETV    Male                      White   \n",
       "498  TARGET-30-PAVEZM  Female                      White   \n",
       "\n",
       "                  Ethnicity  Age at Diagnosis in Days First Event  \\\n",
       "0        Hispanic or Latino                        96    Censored   \n",
       "1    Not Hispanic or Latino                       964     Relapse   \n",
       "2    Not Hispanic or Latino                       538    Censored   \n",
       "3    Not Hispanic or Latino                       287     Relapse   \n",
       "4    Not Hispanic or Latino                        67    Censored   \n",
       "..                      ...                       ...         ...   \n",
       "494      Hispanic or Latino                      1147    Censored   \n",
       "495  Not Hispanic or Latino                        24    Censored   \n",
       "496  Not Hispanic or Latino                      2054       Death   \n",
       "497  Not Hispanic or Latino                      1101    Censored   \n",
       "498  Not Hispanic or Latino                      2517    Censored   \n",
       "\n",
       "     Event Free Survival Time in Days Vital Status  \\\n",
       "0                                3701        Alive   \n",
       "1                                 997         Dead   \n",
       "2                                3928        Alive   \n",
       "3                                2675        Alive   \n",
       "4                                3625        Alive   \n",
       "..                                ...          ...   \n",
       "494                               233        Alive   \n",
       "495                              1876        Alive   \n",
       "496                               508         Dead   \n",
       "497                               725        Alive   \n",
       "498                              1960        Alive   \n",
       "\n",
       "     Overall Survival Time in Days  Year of Diagnosis  ...     COG Risk Group  \\\n",
       "0                             3701               2007  ...  Intermediate Risk   \n",
       "1                             1516               2007  ...          High Risk   \n",
       "2                             3928               2007  ...  Intermediate Risk   \n",
       "3                             3995               2008  ...           Low Risk   \n",
       "4                             3625               2008  ...           Low Risk   \n",
       "..                             ...                ...  ...                ...   \n",
       "494                            233               2012  ...          High Risk   \n",
       "495                           1876               2012  ...           Low Risk   \n",
       "496                            508               2012  ...          High Risk   \n",
       "497                            725               2012  ...          High Risk   \n",
       "498                           1960               2012  ...          High Risk   \n",
       "\n",
       "    Percent Tumor Percent Necrosis Percent Tumor v/s Stroma  \\\n",
       "0              60              NaN                      NaN   \n",
       "1              50              NaN                      NaN   \n",
       "2              70              NaN                      NaN   \n",
       "3              80              NaN                      NaN   \n",
       "4              70              NaN                      NaN   \n",
       "..            ...              ...                      ...   \n",
       "494            70              NaN                      NaN   \n",
       "495            80              NaN                      NaN   \n",
       "496            95              NaN                      NaN   \n",
       "497            90              NaN                      NaN   \n",
       "498            90              NaN                      NaN   \n",
       "\n",
       "    Sites of Disease Involvement                            Site of Relapse  \\\n",
       "0                            NaN                                        NaN   \n",
       "1                            NaN  Bone; Bone Marrow; Other metastatic sites   \n",
       "2                            NaN                                        NaN   \n",
       "3                            NaN                               Primary site   \n",
       "4                            NaN                                        NaN   \n",
       "..                           ...                                        ...   \n",
       "494                          NaN                                        NaN   \n",
       "495                          NaN                                        NaN   \n",
       "496                          NaN                                        NaN   \n",
       "497                          NaN                                        NaN   \n",
       "498                          NaN                                        NaN   \n",
       "\n",
       "    Relapse Percent Tumor Relapse Percent Necrosis  \\\n",
       "0                     NaN                      NaN   \n",
       "1                     NaN                      NaN   \n",
       "2                     NaN                      NaN   \n",
       "3                     NaN                      NaN   \n",
       "4                     NaN                      NaN   \n",
       "..                    ...                      ...   \n",
       "494                   NaN                      NaN   \n",
       "495                   NaN                      NaN   \n",
       "496                   NaN                      NaN   \n",
       "497                   NaN                      NaN   \n",
       "498                   NaN                      NaN   \n",
       "\n",
       "    Relapse Percent Tumor v/s Stroma  \\\n",
       "0                                NaN   \n",
       "1                                NaN   \n",
       "2                                NaN   \n",
       "3                                NaN   \n",
       "4                                NaN   \n",
       "..                               ...   \n",
       "494                              NaN   \n",
       "495                              NaN   \n",
       "496                              NaN   \n",
       "497                              NaN   \n",
       "498                              NaN   \n",
       "\n",
       "                                               Comment  \n",
       "0    hyperdiploid miscoded as diploid/hypodiploid i...  \n",
       "1                                                  NaN  \n",
       "2    hyperdiploid miscoded as diploid/hypodiploid i...  \n",
       "3    hyperdiploid miscoded as diploid/hypodiploid i...  \n",
       "4    hyperdiploid miscoded as diploid/hypodiploid i...  \n",
       "..                                                 ...  \n",
       "494                                                NaN  \n",
       "495  hyperdiploid miscoded as diploid/hypodiploid i...  \n",
       "496  hyperdiploid miscoded as diploid/hypodiploid i...  \n",
       "497                                                NaN  \n",
       "498                                                NaN  \n",
       "\n",
       "[499 rows x 32 columns]>"
      ]
     },
     "execution_count": 6,
     "metadata": {},
     "output_type": "execute_result"
    }
   ],
   "source": [
    "neuro2.head"
   ]
  },
  {
   "cell_type": "code",
   "execution_count": 52,
   "id": "6ef426e0-6a50-4b83-82bf-a1f7ca4bb711",
   "metadata": {},
   "outputs": [
    {
     "ename": "NameError",
     "evalue": "name 'neuro1' is not defined",
     "output_type": "error",
     "traceback": [
      "\u001b[0;31m---------------------------------------------------------------------------\u001b[0m",
      "\u001b[0;31mNameError\u001b[0m                                 Traceback (most recent call last)",
      "Cell \u001b[0;32mIn[52], line 1\u001b[0m\n\u001b[0;32m----> 1\u001b[0m neuro_comb \u001b[38;5;241m=\u001b[39m pd\u001b[38;5;241m.\u001b[39mconcat([neuro1],[neuro2])\n",
      "\u001b[0;31mNameError\u001b[0m: name 'neuro1' is not defined"
     ]
    }
   ],
   "source": [
    "neuro_comb = pd.concat([neuro1],[neuro2])"
   ]
  },
  {
   "cell_type": "code",
   "execution_count": null,
   "id": "f8135aa2-5053-4e7f-99a0-a861c1c36e2d",
   "metadata": {},
   "outputs": [],
   "source": [
    "neuro_comb = pd.concat([neuro1,neuro2])"
   ]
  },
  {
   "cell_type": "code",
   "execution_count": 54,
   "id": "2992ead0-f9ba-49cd-8276-dcf65b892e2e",
   "metadata": {
    "editable": true,
    "slideshow": {
     "slide_type": ""
    },
    "tags": []
   },
   "outputs": [],
   "source": [
    "neuro_comb = pd.concat([neuro,neuro2])"
   ]
  },
  {
   "cell_type": "code",
   "execution_count": null,
   "id": "49728b1b-045f-4b2b-8b4c-de515d4704dc",
   "metadata": {},
   "outputs": [],
   "source": [
    "neuro_comb.head"
   ]
  },
  {
   "cell_type": "code",
   "execution_count": null,
   "id": "2aa8d891-baa7-4388-9dda-40851c7c70ba",
   "metadata": {},
   "outputs": [],
   "source": [
    "neuro_comb['TARGET USI']"
   ]
  },
  {
   "cell_type": "code",
   "execution_count": null,
   "id": "673558f4-865d-4b3a-9c8f-0d827e36effd",
   "metadata": {},
   "outputs": [],
   "source": [
    "neuro_comb.loc[['TARGET USI','Race']]"
   ]
  },
  {
   "cell_type": "code",
   "execution_count": null,
   "id": "4ea7d502-2684-4764-aa7a-02ff3c53dd02",
   "metadata": {},
   "outputs": [],
   "source": [
    "neuro_comb['TARGET USI']['Gender']"
   ]
  },
  {
   "cell_type": "code",
   "execution_count": null,
   "id": "30776452-9487-4a56-a2a2-c273e66f0053",
   "metadata": {},
   "outputs": [],
   "source": [
    "neuro_comb.loc[['TARGET USI','Race']]"
   ]
  },
  {
   "cell_type": "code",
   "execution_count": null,
   "id": "dbf416c3-1761-488f-8214-4a73fedab39d",
   "metadata": {},
   "outputs": [],
   "source": [
    "neuro_comb['TARGET USI'] + neuro_comb['Race']"
   ]
  },
  {
   "cell_type": "code",
   "execution_count": null,
   "id": "0cf7b286-c4b1-454d-9b71-9afd5c9aa101",
   "metadata": {},
   "outputs": [],
   "source": [
    "neuro_comb['TARGET USI','Race']"
   ]
  },
  {
   "cell_type": "code",
   "execution_count": 56,
   "id": "778002cb-daaf-4b2f-830f-f920504230f4",
   "metadata": {},
   "outputs": [],
   "source": [
    "neuro_comb2 = neuro_comb.loc[:,['TARGET USI','Gender','Race','Ethnicity','Age at Diagnosis in Days','First Event',\n",
    "                 'Event Free Survival Time in Days','Vital Status','Overall Survival Time in Days',\n",
    "                 'Year of Diagnosis','Year of Last Follow Up','INSS Stage','MYCN status','Ploidy',\n",
    "                  'Ploidy Value','Histology','Grade','MKI','Diagnostic Category','COG Risk Group',\n",
    "                  'Percent Tumor','Percent Necrosis','Percent Tumor v/s Stroma',]]"
   ]
  },
  {
   "cell_type": "code",
   "execution_count": null,
   "id": "e27f9b29-c337-49cc-b371-c361c1bd7e5a",
   "metadata": {},
   "outputs": [],
   "source": [
    "neuro_comb.head"
   ]
  },
  {
   "cell_type": "code",
   "execution_count": null,
   "id": "67f71034-1766-4e35-8178-1d0952e6ed7e",
   "metadata": {},
   "outputs": [],
   "source": []
  },
  {
   "cell_type": "code",
   "execution_count": null,
   "id": "95edaf1c-41d7-43c2-9b02-0be6feaab3aa",
   "metadata": {},
   "outputs": [],
   "source": [
    "neuro_comb2.info()"
   ]
  },
  {
   "cell_type": "code",
   "execution_count": 58,
   "id": "f26aa4b6-643c-4fb8-ab81-32f46615bae7",
   "metadata": {},
   "outputs": [
    {
     "ename": "AttributeError",
     "evalue": "'DataFrame' object has no attribute 'right'",
     "output_type": "error",
     "traceback": [
      "\u001b[0;31m---------------------------------------------------------------------------\u001b[0m",
      "\u001b[0;31mAttributeError\u001b[0m                            Traceback (most recent call last)",
      "\u001b[0;32m/var/folders/n3/hnlqb6zn2hvgrm0p9qhyd9rh0000gn/T/ipykernel_6134/3620541309.py\u001b[0m in \u001b[0;36m?\u001b[0;34m()\u001b[0m\n\u001b[0;32m----> 1\u001b[0;31m \u001b[0mneuro_comb2\u001b[0m\u001b[0;34m[\u001b[0m\u001b[0;34m'target_usi'\u001b[0m\u001b[0;34m]\u001b[0m \u001b[0;34m=\u001b[0m \u001b[0mneuro_comb2\u001b[0m\u001b[0;34m.\u001b[0m\u001b[0mright\u001b[0m\u001b[0;34m[\u001b[0m\u001b[0;34m'TARGET USI'\u001b[0m\u001b[0;34m,\u001b[0m\u001b[0;36m6\u001b[0m\u001b[0;34m]\u001b[0m\u001b[0;34m\u001b[0m\u001b[0;34m\u001b[0m\u001b[0m\n\u001b[0m",
      "\u001b[0;32m/opt/anaconda3/lib/python3.12/site-packages/pandas/core/generic.py\u001b[0m in \u001b[0;36m?\u001b[0;34m(self, name)\u001b[0m\n\u001b[1;32m   6295\u001b[0m             \u001b[0;32mand\u001b[0m \u001b[0mname\u001b[0m \u001b[0;32mnot\u001b[0m \u001b[0;32min\u001b[0m \u001b[0mself\u001b[0m\u001b[0;34m.\u001b[0m\u001b[0m_accessors\u001b[0m\u001b[0;34m\u001b[0m\u001b[0;34m\u001b[0m\u001b[0m\n\u001b[1;32m   6296\u001b[0m             \u001b[0;32mand\u001b[0m \u001b[0mself\u001b[0m\u001b[0;34m.\u001b[0m\u001b[0m_info_axis\u001b[0m\u001b[0;34m.\u001b[0m\u001b[0m_can_hold_identifiers_and_holds_name\u001b[0m\u001b[0;34m(\u001b[0m\u001b[0mname\u001b[0m\u001b[0;34m)\u001b[0m\u001b[0;34m\u001b[0m\u001b[0;34m\u001b[0m\u001b[0m\n\u001b[1;32m   6297\u001b[0m         \u001b[0;34m)\u001b[0m\u001b[0;34m:\u001b[0m\u001b[0;34m\u001b[0m\u001b[0;34m\u001b[0m\u001b[0m\n\u001b[1;32m   6298\u001b[0m             \u001b[0;32mreturn\u001b[0m \u001b[0mself\u001b[0m\u001b[0;34m[\u001b[0m\u001b[0mname\u001b[0m\u001b[0;34m]\u001b[0m\u001b[0;34m\u001b[0m\u001b[0;34m\u001b[0m\u001b[0m\n\u001b[0;32m-> 6299\u001b[0;31m         \u001b[0;32mreturn\u001b[0m \u001b[0mobject\u001b[0m\u001b[0;34m.\u001b[0m\u001b[0m__getattribute__\u001b[0m\u001b[0;34m(\u001b[0m\u001b[0mself\u001b[0m\u001b[0;34m,\u001b[0m \u001b[0mname\u001b[0m\u001b[0;34m)\u001b[0m\u001b[0;34m\u001b[0m\u001b[0;34m\u001b[0m\u001b[0m\n\u001b[0m",
      "\u001b[0;31mAttributeError\u001b[0m: 'DataFrame' object has no attribute 'right'"
     ]
    }
   ],
   "source": [
    "neuro_comb2['target_usi'] = neuro_comb2.right['TARGET USI',6]"
   ]
  },
  {
   "cell_type": "code",
   "execution_count": null,
   "id": "24b5998e-6ec0-4b68-a604-5907819b3efd",
   "metadata": {},
   "outputs": [],
   "source": [
    "neuro_comb2['TARGET USI'].right[6]"
   ]
  },
  {
   "cell_type": "code",
   "execution_count": 60,
   "id": "5a08e09a-e992-46e5-91c0-d80e02dd3fd1",
   "metadata": {},
   "outputs": [],
   "source": [
    "neuro_comb2['target_usi'] = neuro_comb2['TARGET USI'].str[-6:]"
   ]
  },
  {
   "cell_type": "code",
   "execution_count": 62,
   "id": "bab0cfc5-4513-4801-b80f-86017dea8a63",
   "metadata": {},
   "outputs": [],
   "source": [
    "neuro_comb2['Age at Diagnosis in Weeks'] = round(neuro_comb['Age at Diagnosis in Days']/7)"
   ]
  },
  {
   "cell_type": "code",
   "execution_count": null,
   "id": "94a66c2f-5c4b-4319-be46-ccabca8134e3",
   "metadata": {},
   "outputs": [],
   "source": [
    "neuro_comb2"
   ]
  },
  {
   "cell_type": "code",
   "execution_count": 64,
   "id": "a285a7eb-43f4-4715-8079-dfa9e4c1e3d9",
   "metadata": {
    "editable": true,
    "slideshow": {
     "slide_type": ""
    },
    "tags": []
   },
   "outputs": [],
   "source": [
    "def race_variable(row):\n",
    "    if row['Race'] == \"Unknown\" and row['Ethnicity'] == \"Hispanic or Latino\":\n",
    "        return \"Hispanic\"\n",
    "    elif row['Race'] == \"Black or African American\":\n",
    "        return \"Black\"\n",
    "    elif row['Race'] == \"American Indian or Alaska Native\" or row['Race'] == \"Native Hawaiian or other Pacific Islander\":\n",
    "        return \"Native American\"\n",
    "    else:\n",
    "        return row['Race']\n",
    "\n",
    "\n",
    "neuro_comb2['Nationality'] = neuro_comb2.apply(race_variable, axis=1)"
   ]
  },
  {
   "cell_type": "code",
   "execution_count": null,
   "id": "f3f60e55-abbd-4dbc-beae-f2f3a78016b9",
   "metadata": {},
   "outputs": [],
   "source": [
    "neuro_comb2"
   ]
  },
  {
   "cell_type": "code",
   "execution_count": 66,
   "id": "bc671186-04d4-4e59-bcf7-a071a7b36970",
   "metadata": {},
   "outputs": [],
   "source": [
    "neuro_comb2[\"Survival Time in Weeks\"] = round(neuro_comb2[\"Overall Survival Time in Days\"]/7)"
   ]
  },
  {
   "cell_type": "code",
   "execution_count": null,
   "id": "64070886-ff92-4e50-ae5e-5b3e37e6cb61",
   "metadata": {},
   "outputs": [],
   "source": [
    "neuro_comb2"
   ]
  },
  {
   "cell_type": "code",
   "execution_count": 68,
   "id": "0e4a273d-e06e-4e9a-9d0e-d5d88ad6b60f",
   "metadata": {},
   "outputs": [],
   "source": [
    "def ploidy_var(row):\n",
    "    if row['Ploidy'] == \"Hyperdiploid (DI>1)\":\n",
    "        return \"Hyperdiploid\"\n",
    "    elif row['Ploidy'] == \"Diploid (DI=1)\":\n",
    "        return \"Diploid\"\n",
    "    else:\n",
    "        return row['Ploidy']\n",
    "\n",
    "neuro_comb2['Diploid or Hyperdiploid'] = neuro_comb2.apply(ploidy_var,axis=1)"
   ]
  },
  {
   "cell_type": "code",
   "execution_count": null,
   "id": "a41ecb97-53ec-442c-a05c-460d7dc73cd0",
   "metadata": {},
   "outputs": [],
   "source": [
    "neuro_comb2"
   ]
  },
  {
   "cell_type": "code",
   "execution_count": 70,
   "id": "5f2dc0c2-194d-408e-9227-b46bb185123b",
   "metadata": {},
   "outputs": [],
   "source": [
    "def grade_variable(row):\n",
    "    if row['Grade'] == \"Undifferentiated or Poorly Differentiated\":\n",
    "        return \"3-4\"\n",
    "    elif row['Grade'] == \"Differentiating\":\n",
    "        return \"1-2\"\n",
    "    else:\n",
    "        return row['Grade']\n",
    "\n",
    "\n",
    "neuro_comb2['Tumor_Grade'] = neuro_comb2.apply(grade_variable,axis=1)"
   ]
  },
  {
   "cell_type": "code",
   "execution_count": null,
   "id": "63065003-4307-4c96-94df-ab93554ef59c",
   "metadata": {},
   "outputs": [],
   "source": [
    "neuro_comb2"
   ]
  },
  {
   "cell_type": "code",
   "execution_count": 72,
   "id": "445b8c42-d41c-4e50-9124-f633e24b5409",
   "metadata": {},
   "outputs": [],
   "source": [
    "neuro_comb3 = neuro_comb2.loc[:,['target_usi','Gender','Nationality','Age at Diagnosis in Weeks','Vital Status',\n",
    "                   'Survival Time in Weeks','Year of Diagnosis','Year of Last Follow Up',\n",
    "                   'INSS Stage','MYCN status','Diploid or Hyperdiploid','Ploidy Value','Histology','Tumor_Grade','MKI',\n",
    "                   'Diagnostic Category','COG Risk Group','Percent Tumor','Percent Necrosis','Percent Tumor v/s Stroma']]"
   ]
  },
  {
   "cell_type": "code",
   "execution_count": 74,
   "id": "0e89ed80-09f2-440a-afe4-fe7938af535f",
   "metadata": {},
   "outputs": [],
   "source": [
    "neuro_comb4 = neuro_comb3[neuro_comb3['Diagnostic Category'] == \"Neuroblastoma\"]"
   ]
  },
  {
   "cell_type": "code",
   "execution_count": null,
   "id": "a4f17d6b-fe3b-4324-b6c5-fb59827850fe",
   "metadata": {
    "editable": true,
    "slideshow": {
     "slide_type": ""
    },
    "tags": []
   },
   "outputs": [],
   "source": [
    "neuro_comb4.groupby(['Gender','Nationality'])['Survival Time in Weeks'].mean()"
   ]
  },
  {
   "cell_type": "code",
   "execution_count": 80,
   "id": "9e075528-0303-4d73-9166-e5bb1b4834d4",
   "metadata": {},
   "outputs": [
    {
     "name": "stderr",
     "output_type": "stream",
     "text": [
      "/var/folders/n3/hnlqb6zn2hvgrm0p9qhyd9rh0000gn/T/ipykernel_6134/2413012713.py:1: FutureWarning: The provided callable <function mean at 0x103e80b80> is currently using SeriesGroupBy.mean. In a future version of pandas, the provided callable will be used directly. To keep current behavior pass the string \"mean\" instead.\n",
      "  national_agg = neuro_comb4.groupby(['Nationality']).agg({\"Survival Time in Weeks\": [np.mean,np.std,np.size]})\n",
      "/var/folders/n3/hnlqb6zn2hvgrm0p9qhyd9rh0000gn/T/ipykernel_6134/2413012713.py:1: FutureWarning: The provided callable <function std at 0x103e80cc0> is currently using SeriesGroupBy.std. In a future version of pandas, the provided callable will be used directly. To keep current behavior pass the string \"std\" instead.\n",
      "  national_agg = neuro_comb4.groupby(['Nationality']).agg({\"Survival Time in Weeks\": [np.mean,np.std,np.size]})\n"
     ]
    }
   ],
   "source": [
    "national_agg = neuro_comb4.groupby(['Nationality']).agg({\"Survival Time in Weeks\": [np.mean,np.std,np.size]})"
   ]
  },
  {
   "cell_type": "code",
   "execution_count": 82,
   "id": "39521ee2-4dbd-4746-9cc9-864555b0aba3",
   "metadata": {},
   "outputs": [
    {
     "name": "stderr",
     "output_type": "stream",
     "text": [
      "/var/folders/n3/hnlqb6zn2hvgrm0p9qhyd9rh0000gn/T/ipykernel_6134/3122382845.py:1: FutureWarning: The provided callable <function mean at 0x103e80b80> is currently using SeriesGroupBy.mean. In a future version of pandas, the provided callable will be used directly. To keep current behavior pass the string \"mean\" instead.\n",
      "  neuro_comb4.groupby(['Gender']).agg({\"Survival Time in Weeks\": [np.mean,np.std,np.size]})\n",
      "/var/folders/n3/hnlqb6zn2hvgrm0p9qhyd9rh0000gn/T/ipykernel_6134/3122382845.py:1: FutureWarning: The provided callable <function std at 0x103e80cc0> is currently using SeriesGroupBy.std. In a future version of pandas, the provided callable will be used directly. To keep current behavior pass the string \"std\" instead.\n",
      "  neuro_comb4.groupby(['Gender']).agg({\"Survival Time in Weeks\": [np.mean,np.std,np.size]})\n"
     ]
    },
    {
     "data": {
      "text/html": [
       "<div>\n",
       "<style scoped>\n",
       "    .dataframe tbody tr th:only-of-type {\n",
       "        vertical-align: middle;\n",
       "    }\n",
       "\n",
       "    .dataframe tbody tr th {\n",
       "        vertical-align: top;\n",
       "    }\n",
       "\n",
       "    .dataframe thead tr th {\n",
       "        text-align: left;\n",
       "    }\n",
       "\n",
       "    .dataframe thead tr:last-of-type th {\n",
       "        text-align: right;\n",
       "    }\n",
       "</style>\n",
       "<table border=\"1\" class=\"dataframe\">\n",
       "  <thead>\n",
       "    <tr>\n",
       "      <th></th>\n",
       "      <th colspan=\"3\" halign=\"left\">Survival Time in Weeks</th>\n",
       "    </tr>\n",
       "    <tr>\n",
       "      <th></th>\n",
       "      <th>mean</th>\n",
       "      <th>std</th>\n",
       "      <th>size</th>\n",
       "    </tr>\n",
       "    <tr>\n",
       "      <th>Gender</th>\n",
       "      <th></th>\n",
       "      <th></th>\n",
       "      <th></th>\n",
       "    </tr>\n",
       "  </thead>\n",
       "  <tbody>\n",
       "    <tr>\n",
       "      <th>Female</th>\n",
       "      <td>305.542636</td>\n",
       "      <td>192.756592</td>\n",
       "      <td>387</td>\n",
       "    </tr>\n",
       "    <tr>\n",
       "      <th>Male</th>\n",
       "      <td>316.440385</td>\n",
       "      <td>196.454960</td>\n",
       "      <td>520</td>\n",
       "    </tr>\n",
       "  </tbody>\n",
       "</table>\n",
       "</div>"
      ],
      "text/plain": [
       "       Survival Time in Weeks                 \n",
       "                         mean         std size\n",
       "Gender                                        \n",
       "Female             305.542636  192.756592  387\n",
       "Male               316.440385  196.454960  520"
      ]
     },
     "execution_count": 82,
     "metadata": {},
     "output_type": "execute_result"
    }
   ],
   "source": [
    "neuro_comb4.groupby(['Gender']).agg({\"Survival Time in Weeks\": [np.mean,np.std,np.size]})"
   ]
  },
  {
   "cell_type": "code",
   "execution_count": 84,
   "id": "e9aaebc6-0284-43fa-8c84-4deaf772193e",
   "metadata": {},
   "outputs": [
    {
     "name": "stderr",
     "output_type": "stream",
     "text": [
      "/var/folders/n3/hnlqb6zn2hvgrm0p9qhyd9rh0000gn/T/ipykernel_6134/2607730572.py:1: FutureWarning: The provided callable <function mean at 0x103e80b80> is currently using SeriesGroupBy.mean. In a future version of pandas, the provided callable will be used directly. To keep current behavior pass the string \"mean\" instead.\n",
      "  neuro_comb4.groupby(['INSS Stage']).agg({\"Survival Time in Weeks\": [np.mean,np.std,np.size]})\n",
      "/var/folders/n3/hnlqb6zn2hvgrm0p9qhyd9rh0000gn/T/ipykernel_6134/2607730572.py:1: FutureWarning: The provided callable <function std at 0x103e80cc0> is currently using SeriesGroupBy.std. In a future version of pandas, the provided callable will be used directly. To keep current behavior pass the string \"std\" instead.\n",
      "  neuro_comb4.groupby(['INSS Stage']).agg({\"Survival Time in Weeks\": [np.mean,np.std,np.size]})\n"
     ]
    },
    {
     "data": {
      "text/html": [
       "<div>\n",
       "<style scoped>\n",
       "    .dataframe tbody tr th:only-of-type {\n",
       "        vertical-align: middle;\n",
       "    }\n",
       "\n",
       "    .dataframe tbody tr th {\n",
       "        vertical-align: top;\n",
       "    }\n",
       "\n",
       "    .dataframe thead tr th {\n",
       "        text-align: left;\n",
       "    }\n",
       "\n",
       "    .dataframe thead tr:last-of-type th {\n",
       "        text-align: right;\n",
       "    }\n",
       "</style>\n",
       "<table border=\"1\" class=\"dataframe\">\n",
       "  <thead>\n",
       "    <tr>\n",
       "      <th></th>\n",
       "      <th colspan=\"3\" halign=\"left\">Survival Time in Weeks</th>\n",
       "    </tr>\n",
       "    <tr>\n",
       "      <th></th>\n",
       "      <th>mean</th>\n",
       "      <th>std</th>\n",
       "      <th>size</th>\n",
       "    </tr>\n",
       "    <tr>\n",
       "      <th>INSS Stage</th>\n",
       "      <th></th>\n",
       "      <th></th>\n",
       "      <th></th>\n",
       "    </tr>\n",
       "  </thead>\n",
       "  <tbody>\n",
       "    <tr>\n",
       "      <th>Stage 1</th>\n",
       "      <td>445.785714</td>\n",
       "      <td>150.111852</td>\n",
       "      <td>84</td>\n",
       "    </tr>\n",
       "    <tr>\n",
       "      <th>Stage 2a</th>\n",
       "      <td>435.333333</td>\n",
       "      <td>102.527232</td>\n",
       "      <td>21</td>\n",
       "    </tr>\n",
       "    <tr>\n",
       "      <th>Stage 2b</th>\n",
       "      <td>396.592593</td>\n",
       "      <td>140.212273</td>\n",
       "      <td>27</td>\n",
       "    </tr>\n",
       "    <tr>\n",
       "      <th>Stage 3</th>\n",
       "      <td>370.804878</td>\n",
       "      <td>154.211690</td>\n",
       "      <td>82</td>\n",
       "    </tr>\n",
       "    <tr>\n",
       "      <th>Stage 4</th>\n",
       "      <td>274.261346</td>\n",
       "      <td>198.632667</td>\n",
       "      <td>639</td>\n",
       "    </tr>\n",
       "    <tr>\n",
       "      <th>Stage 4s</th>\n",
       "      <td>367.388889</td>\n",
       "      <td>158.603150</td>\n",
       "      <td>54</td>\n",
       "    </tr>\n",
       "  </tbody>\n",
       "</table>\n",
       "</div>"
      ],
      "text/plain": [
       "           Survival Time in Weeks                 \n",
       "                             mean         std size\n",
       "INSS Stage                                        \n",
       "Stage 1                445.785714  150.111852   84\n",
       "Stage 2a               435.333333  102.527232   21\n",
       "Stage 2b               396.592593  140.212273   27\n",
       "Stage 3                370.804878  154.211690   82\n",
       "Stage 4                274.261346  198.632667  639\n",
       "Stage 4s               367.388889  158.603150   54"
      ]
     },
     "execution_count": 84,
     "metadata": {},
     "output_type": "execute_result"
    }
   ],
   "source": [
    "neuro_comb4.groupby(['INSS Stage']).agg({\"Survival Time in Weeks\": [np.mean,np.std,np.size]})"
   ]
  },
  {
   "cell_type": "code",
   "execution_count": 86,
   "id": "55e03a4c-ff1f-47aa-a874-f703acdf05f9",
   "metadata": {},
   "outputs": [
    {
     "name": "stderr",
     "output_type": "stream",
     "text": [
      "/var/folders/n3/hnlqb6zn2hvgrm0p9qhyd9rh0000gn/T/ipykernel_6134/2594804078.py:1: FutureWarning: The provided callable <function mean at 0x103e80b80> is currently using SeriesGroupBy.mean. In a future version of pandas, the provided callable will be used directly. To keep current behavior pass the string \"mean\" instead.\n",
      "  neuro_comb4.groupby(['MYCN status']).agg({\"Survival Time in Weeks\": [np.mean,np.std,np.size]})\n",
      "/var/folders/n3/hnlqb6zn2hvgrm0p9qhyd9rh0000gn/T/ipykernel_6134/2594804078.py:1: FutureWarning: The provided callable <function std at 0x103e80cc0> is currently using SeriesGroupBy.std. In a future version of pandas, the provided callable will be used directly. To keep current behavior pass the string \"std\" instead.\n",
      "  neuro_comb4.groupby(['MYCN status']).agg({\"Survival Time in Weeks\": [np.mean,np.std,np.size]})\n"
     ]
    },
    {
     "data": {
      "text/html": [
       "<div>\n",
       "<style scoped>\n",
       "    .dataframe tbody tr th:only-of-type {\n",
       "        vertical-align: middle;\n",
       "    }\n",
       "\n",
       "    .dataframe tbody tr th {\n",
       "        vertical-align: top;\n",
       "    }\n",
       "\n",
       "    .dataframe thead tr th {\n",
       "        text-align: left;\n",
       "    }\n",
       "\n",
       "    .dataframe thead tr:last-of-type th {\n",
       "        text-align: right;\n",
       "    }\n",
       "</style>\n",
       "<table border=\"1\" class=\"dataframe\">\n",
       "  <thead>\n",
       "    <tr>\n",
       "      <th></th>\n",
       "      <th colspan=\"3\" halign=\"left\">Survival Time in Weeks</th>\n",
       "    </tr>\n",
       "    <tr>\n",
       "      <th></th>\n",
       "      <th>mean</th>\n",
       "      <th>std</th>\n",
       "      <th>size</th>\n",
       "    </tr>\n",
       "    <tr>\n",
       "      <th>MYCN status</th>\n",
       "      <th></th>\n",
       "      <th></th>\n",
       "      <th></th>\n",
       "    </tr>\n",
       "  </thead>\n",
       "  <tbody>\n",
       "    <tr>\n",
       "      <th>Amplified</th>\n",
       "      <td>253.553633</td>\n",
       "      <td>205.415377</td>\n",
       "      <td>289</td>\n",
       "    </tr>\n",
       "    <tr>\n",
       "      <th>Not Amplified</th>\n",
       "      <td>338.866557</td>\n",
       "      <td>183.677757</td>\n",
       "      <td>607</td>\n",
       "    </tr>\n",
       "    <tr>\n",
       "      <th>Unknown</th>\n",
       "      <td>347.727273</td>\n",
       "      <td>190.315575</td>\n",
       "      <td>11</td>\n",
       "    </tr>\n",
       "  </tbody>\n",
       "</table>\n",
       "</div>"
      ],
      "text/plain": [
       "              Survival Time in Weeks                 \n",
       "                                mean         std size\n",
       "MYCN status                                          \n",
       "Amplified                 253.553633  205.415377  289\n",
       "Not Amplified             338.866557  183.677757  607\n",
       "Unknown                   347.727273  190.315575   11"
      ]
     },
     "execution_count": 86,
     "metadata": {},
     "output_type": "execute_result"
    }
   ],
   "source": [
    "neuro_comb4.groupby(['MYCN status']).agg({\"Survival Time in Weeks\": [np.mean,np.std,np.size]})"
   ]
  },
  {
   "cell_type": "code",
   "execution_count": 88,
   "id": "3b2c1952-567c-442a-986d-50ad21dd81c9",
   "metadata": {},
   "outputs": [
    {
     "name": "stderr",
     "output_type": "stream",
     "text": [
      "/var/folders/n3/hnlqb6zn2hvgrm0p9qhyd9rh0000gn/T/ipykernel_6134/3548361450.py:1: FutureWarning: The provided callable <function mean at 0x103e80b80> is currently using SeriesGroupBy.mean. In a future version of pandas, the provided callable will be used directly. To keep current behavior pass the string \"mean\" instead.\n",
      "  neuro_comb4.groupby(['Diploid or Hyperdiploid']).agg({\"Survival Time in Weeks\": [np.mean,np.std,np.size]})\n",
      "/var/folders/n3/hnlqb6zn2hvgrm0p9qhyd9rh0000gn/T/ipykernel_6134/3548361450.py:1: FutureWarning: The provided callable <function std at 0x103e80cc0> is currently using SeriesGroupBy.std. In a future version of pandas, the provided callable will be used directly. To keep current behavior pass the string \"std\" instead.\n",
      "  neuro_comb4.groupby(['Diploid or Hyperdiploid']).agg({\"Survival Time in Weeks\": [np.mean,np.std,np.size]})\n"
     ]
    },
    {
     "data": {
      "text/html": [
       "<div>\n",
       "<style scoped>\n",
       "    .dataframe tbody tr th:only-of-type {\n",
       "        vertical-align: middle;\n",
       "    }\n",
       "\n",
       "    .dataframe tbody tr th {\n",
       "        vertical-align: top;\n",
       "    }\n",
       "\n",
       "    .dataframe thead tr th {\n",
       "        text-align: left;\n",
       "    }\n",
       "\n",
       "    .dataframe thead tr:last-of-type th {\n",
       "        text-align: right;\n",
       "    }\n",
       "</style>\n",
       "<table border=\"1\" class=\"dataframe\">\n",
       "  <thead>\n",
       "    <tr>\n",
       "      <th></th>\n",
       "      <th colspan=\"3\" halign=\"left\">Survival Time in Weeks</th>\n",
       "    </tr>\n",
       "    <tr>\n",
       "      <th></th>\n",
       "      <th>mean</th>\n",
       "      <th>std</th>\n",
       "      <th>size</th>\n",
       "    </tr>\n",
       "    <tr>\n",
       "      <th>Diploid or Hyperdiploid</th>\n",
       "      <th></th>\n",
       "      <th></th>\n",
       "      <th></th>\n",
       "    </tr>\n",
       "  </thead>\n",
       "  <tbody>\n",
       "    <tr>\n",
       "      <th>Diploid</th>\n",
       "      <td>255.498339</td>\n",
       "      <td>193.873010</td>\n",
       "      <td>301</td>\n",
       "    </tr>\n",
       "    <tr>\n",
       "      <th>Hyperdiploid</th>\n",
       "      <td>347.169708</td>\n",
       "      <td>186.039798</td>\n",
       "      <td>548</td>\n",
       "    </tr>\n",
       "    <tr>\n",
       "      <th>Unknown</th>\n",
       "      <td>269.655172</td>\n",
       "      <td>207.235314</td>\n",
       "      <td>58</td>\n",
       "    </tr>\n",
       "  </tbody>\n",
       "</table>\n",
       "</div>"
      ],
      "text/plain": [
       "                        Survival Time in Weeks                 \n",
       "                                          mean         std size\n",
       "Diploid or Hyperdiploid                                        \n",
       "Diploid                             255.498339  193.873010  301\n",
       "Hyperdiploid                        347.169708  186.039798  548\n",
       "Unknown                             269.655172  207.235314   58"
      ]
     },
     "execution_count": 88,
     "metadata": {},
     "output_type": "execute_result"
    }
   ],
   "source": [
    "neuro_comb4.groupby(['Diploid or Hyperdiploid']).agg({\"Survival Time in Weeks\": [np.mean,np.std,np.size]})"
   ]
  },
  {
   "cell_type": "code",
   "execution_count": 90,
   "id": "8572ef02-b35f-458c-b0d3-ff3bfcdf8747",
   "metadata": {},
   "outputs": [
    {
     "name": "stderr",
     "output_type": "stream",
     "text": [
      "/var/folders/n3/hnlqb6zn2hvgrm0p9qhyd9rh0000gn/T/ipykernel_6134/828969945.py:1: FutureWarning: The provided callable <function mean at 0x103e80b80> is currently using SeriesGroupBy.mean. In a future version of pandas, the provided callable will be used directly. To keep current behavior pass the string \"mean\" instead.\n",
      "  neuro_comb4.groupby(['Histology']).agg({\"Survival Time in Weeks\": [np.mean,np.std,np.size]})\n",
      "/var/folders/n3/hnlqb6zn2hvgrm0p9qhyd9rh0000gn/T/ipykernel_6134/828969945.py:1: FutureWarning: The provided callable <function std at 0x103e80cc0> is currently using SeriesGroupBy.std. In a future version of pandas, the provided callable will be used directly. To keep current behavior pass the string \"std\" instead.\n",
      "  neuro_comb4.groupby(['Histology']).agg({\"Survival Time in Weeks\": [np.mean,np.std,np.size]})\n"
     ]
    },
    {
     "data": {
      "text/html": [
       "<div>\n",
       "<style scoped>\n",
       "    .dataframe tbody tr th:only-of-type {\n",
       "        vertical-align: middle;\n",
       "    }\n",
       "\n",
       "    .dataframe tbody tr th {\n",
       "        vertical-align: top;\n",
       "    }\n",
       "\n",
       "    .dataframe thead tr th {\n",
       "        text-align: left;\n",
       "    }\n",
       "\n",
       "    .dataframe thead tr:last-of-type th {\n",
       "        text-align: right;\n",
       "    }\n",
       "</style>\n",
       "<table border=\"1\" class=\"dataframe\">\n",
       "  <thead>\n",
       "    <tr>\n",
       "      <th></th>\n",
       "      <th colspan=\"3\" halign=\"left\">Survival Time in Weeks</th>\n",
       "    </tr>\n",
       "    <tr>\n",
       "      <th></th>\n",
       "      <th>mean</th>\n",
       "      <th>std</th>\n",
       "      <th>size</th>\n",
       "    </tr>\n",
       "    <tr>\n",
       "      <th>Histology</th>\n",
       "      <th></th>\n",
       "      <th></th>\n",
       "      <th></th>\n",
       "    </tr>\n",
       "  </thead>\n",
       "  <tbody>\n",
       "    <tr>\n",
       "      <th>Favorable</th>\n",
       "      <td>400.255814</td>\n",
       "      <td>154.569329</td>\n",
       "      <td>258</td>\n",
       "    </tr>\n",
       "    <tr>\n",
       "      <th>Unfavorable</th>\n",
       "      <td>278.089431</td>\n",
       "      <td>198.052621</td>\n",
       "      <td>615</td>\n",
       "    </tr>\n",
       "    <tr>\n",
       "      <th>Unknown</th>\n",
       "      <td>250.088235</td>\n",
       "      <td>200.567735</td>\n",
       "      <td>34</td>\n",
       "    </tr>\n",
       "  </tbody>\n",
       "</table>\n",
       "</div>"
      ],
      "text/plain": [
       "            Survival Time in Weeks                 \n",
       "                              mean         std size\n",
       "Histology                                          \n",
       "Favorable               400.255814  154.569329  258\n",
       "Unfavorable             278.089431  198.052621  615\n",
       "Unknown                 250.088235  200.567735   34"
      ]
     },
     "execution_count": 90,
     "metadata": {},
     "output_type": "execute_result"
    }
   ],
   "source": [
    "neuro_comb4.groupby(['Histology']).agg({\"Survival Time in Weeks\": [np.mean,np.std,np.size]})"
   ]
  },
  {
   "cell_type": "code",
   "execution_count": 92,
   "id": "01d66caf-30ea-4df6-a125-b8831a3c6d8b",
   "metadata": {},
   "outputs": [
    {
     "name": "stderr",
     "output_type": "stream",
     "text": [
      "/var/folders/n3/hnlqb6zn2hvgrm0p9qhyd9rh0000gn/T/ipykernel_6134/4089972589.py:1: FutureWarning: The provided callable <function mean at 0x103e80b80> is currently using SeriesGroupBy.mean. In a future version of pandas, the provided callable will be used directly. To keep current behavior pass the string \"mean\" instead.\n",
      "  neuro_comb4.groupby(['Tumor_Grade']).agg({\"Survival Time in Weeks\": [np.mean,np.std,np.size]})\n",
      "/var/folders/n3/hnlqb6zn2hvgrm0p9qhyd9rh0000gn/T/ipykernel_6134/4089972589.py:1: FutureWarning: The provided callable <function std at 0x103e80cc0> is currently using SeriesGroupBy.std. In a future version of pandas, the provided callable will be used directly. To keep current behavior pass the string \"std\" instead.\n",
      "  neuro_comb4.groupby(['Tumor_Grade']).agg({\"Survival Time in Weeks\": [np.mean,np.std,np.size]})\n"
     ]
    },
    {
     "data": {
      "text/html": [
       "<div>\n",
       "<style scoped>\n",
       "    .dataframe tbody tr th:only-of-type {\n",
       "        vertical-align: middle;\n",
       "    }\n",
       "\n",
       "    .dataframe tbody tr th {\n",
       "        vertical-align: top;\n",
       "    }\n",
       "\n",
       "    .dataframe thead tr th {\n",
       "        text-align: left;\n",
       "    }\n",
       "\n",
       "    .dataframe thead tr:last-of-type th {\n",
       "        text-align: right;\n",
       "    }\n",
       "</style>\n",
       "<table border=\"1\" class=\"dataframe\">\n",
       "  <thead>\n",
       "    <tr>\n",
       "      <th></th>\n",
       "      <th colspan=\"3\" halign=\"left\">Survival Time in Weeks</th>\n",
       "    </tr>\n",
       "    <tr>\n",
       "      <th></th>\n",
       "      <th>mean</th>\n",
       "      <th>std</th>\n",
       "      <th>size</th>\n",
       "    </tr>\n",
       "    <tr>\n",
       "      <th>Tumor_Grade</th>\n",
       "      <th></th>\n",
       "      <th></th>\n",
       "      <th></th>\n",
       "    </tr>\n",
       "  </thead>\n",
       "  <tbody>\n",
       "    <tr>\n",
       "      <th>1-2</th>\n",
       "      <td>410.702128</td>\n",
       "      <td>184.415518</td>\n",
       "      <td>47</td>\n",
       "    </tr>\n",
       "    <tr>\n",
       "      <th>3-4</th>\n",
       "      <td>312.100637</td>\n",
       "      <td>192.764657</td>\n",
       "      <td>785</td>\n",
       "    </tr>\n",
       "    <tr>\n",
       "      <th>Unknown</th>\n",
       "      <td>246.560000</td>\n",
       "      <td>198.756556</td>\n",
       "      <td>75</td>\n",
       "    </tr>\n",
       "  </tbody>\n",
       "</table>\n",
       "</div>"
      ],
      "text/plain": [
       "            Survival Time in Weeks                 \n",
       "                              mean         std size\n",
       "Tumor_Grade                                        \n",
       "1-2                     410.702128  184.415518   47\n",
       "3-4                     312.100637  192.764657  785\n",
       "Unknown                 246.560000  198.756556   75"
      ]
     },
     "execution_count": 92,
     "metadata": {},
     "output_type": "execute_result"
    }
   ],
   "source": [
    "neuro_comb4.groupby(['Tumor_Grade']).agg({\"Survival Time in Weeks\": [np.mean,np.std,np.size]})"
   ]
  },
  {
   "cell_type": "code",
   "execution_count": 94,
   "id": "825a0a08-e4fb-47d0-9046-90ccfd55868b",
   "metadata": {
    "editable": true,
    "slideshow": {
     "slide_type": ""
    },
    "tags": []
   },
   "outputs": [
    {
     "name": "stderr",
     "output_type": "stream",
     "text": [
      "/var/folders/n3/hnlqb6zn2hvgrm0p9qhyd9rh0000gn/T/ipykernel_6134/549356277.py:1: FutureWarning: The provided callable <function mean at 0x103e80b80> is currently using SeriesGroupBy.mean. In a future version of pandas, the provided callable will be used directly. To keep current behavior pass the string \"mean\" instead.\n",
      "  neuro_comb4.groupby(['MKI']).agg({\"Survival Time in Weeks\": [np.mean,np.std,np.size]})\n",
      "/var/folders/n3/hnlqb6zn2hvgrm0p9qhyd9rh0000gn/T/ipykernel_6134/549356277.py:1: FutureWarning: The provided callable <function std at 0x103e80cc0> is currently using SeriesGroupBy.std. In a future version of pandas, the provided callable will be used directly. To keep current behavior pass the string \"std\" instead.\n",
      "  neuro_comb4.groupby(['MKI']).agg({\"Survival Time in Weeks\": [np.mean,np.std,np.size]})\n"
     ]
    },
    {
     "data": {
      "text/html": [
       "<div>\n",
       "<style scoped>\n",
       "    .dataframe tbody tr th:only-of-type {\n",
       "        vertical-align: middle;\n",
       "    }\n",
       "\n",
       "    .dataframe tbody tr th {\n",
       "        vertical-align: top;\n",
       "    }\n",
       "\n",
       "    .dataframe thead tr th {\n",
       "        text-align: left;\n",
       "    }\n",
       "\n",
       "    .dataframe thead tr:last-of-type th {\n",
       "        text-align: right;\n",
       "    }\n",
       "</style>\n",
       "<table border=\"1\" class=\"dataframe\">\n",
       "  <thead>\n",
       "    <tr>\n",
       "      <th></th>\n",
       "      <th colspan=\"3\" halign=\"left\">Survival Time in Weeks</th>\n",
       "    </tr>\n",
       "    <tr>\n",
       "      <th></th>\n",
       "      <th>mean</th>\n",
       "      <th>std</th>\n",
       "      <th>size</th>\n",
       "    </tr>\n",
       "    <tr>\n",
       "      <th>MKI</th>\n",
       "      <th></th>\n",
       "      <th></th>\n",
       "      <th></th>\n",
       "    </tr>\n",
       "  </thead>\n",
       "  <tbody>\n",
       "    <tr>\n",
       "      <th>High</th>\n",
       "      <td>279.512000</td>\n",
       "      <td>199.956486</td>\n",
       "      <td>250</td>\n",
       "    </tr>\n",
       "    <tr>\n",
       "      <th>Intermediate</th>\n",
       "      <td>310.162500</td>\n",
       "      <td>198.353734</td>\n",
       "      <td>240</td>\n",
       "    </tr>\n",
       "    <tr>\n",
       "      <th>Low</th>\n",
       "      <td>356.383387</td>\n",
       "      <td>178.122455</td>\n",
       "      <td>313</td>\n",
       "    </tr>\n",
       "    <tr>\n",
       "      <th>Unknown</th>\n",
       "      <td>258.932692</td>\n",
       "      <td>196.245253</td>\n",
       "      <td>104</td>\n",
       "    </tr>\n",
       "  </tbody>\n",
       "</table>\n",
       "</div>"
      ],
      "text/plain": [
       "             Survival Time in Weeks                 \n",
       "                               mean         std size\n",
       "MKI                                                 \n",
       "High                     279.512000  199.956486  250\n",
       "Intermediate             310.162500  198.353734  240\n",
       "Low                      356.383387  178.122455  313\n",
       "Unknown                  258.932692  196.245253  104"
      ]
     },
     "execution_count": 94,
     "metadata": {},
     "output_type": "execute_result"
    }
   ],
   "source": [
    "neuro_comb4.groupby(['MKI']).agg({\"Survival Time in Weeks\": [np.mean,np.std,np.size]})"
   ]
  },
  {
   "cell_type": "code",
   "execution_count": null,
   "id": "c5c9b666-7e5f-4579-91df-b99644e0916a",
   "metadata": {
    "editable": true,
    "slideshow": {
     "slide_type": ""
    },
    "tags": []
   },
   "outputs": [],
   "source": [
    "df = dataframe"
   ]
  },
  {
   "cell_type": "code",
   "execution_count": 78,
   "id": "45f7032b-b75c-41f6-861b-4e3295066028",
   "metadata": {},
   "outputs": [],
   "source": [
    "import numpy as np"
   ]
  },
  {
   "cell_type": "code",
   "execution_count": null,
   "id": "d58f0c06-3800-4670-ab53-4564f30c1a3d",
   "metadata": {},
   "outputs": [],
   "source": [
    "neuro_comb4['Survival Time in Weeks'].mean()"
   ]
  },
  {
   "cell_type": "code",
   "execution_count": null,
   "id": "a8255456-28f2-41d6-b5cc-55b6dd7e72c8",
   "metadata": {},
   "outputs": [],
   "source": [
    "neuro_comb4['Survival Time in Weeks'].std()"
   ]
  },
  {
   "cell_type": "code",
   "execution_count": 96,
   "id": "6a570e04-2709-4a5e-be91-350ca6a0244d",
   "metadata": {},
   "outputs": [
    {
     "name": "stderr",
     "output_type": "stream",
     "text": [
      "/var/folders/n3/hnlqb6zn2hvgrm0p9qhyd9rh0000gn/T/ipykernel_6134/2794631201.py:1: FutureWarning: The provided callable <function mean at 0x103e80b80> is currently using SeriesGroupBy.mean. In a future version of pandas, the provided callable will be used directly. To keep current behavior pass the string \"mean\" instead.\n",
      "  gender_agg = neuro_comb4.groupby(['Gender']).agg({\"Survival Time in Weeks\": [np.mean,np.std,np.size]})\n",
      "/var/folders/n3/hnlqb6zn2hvgrm0p9qhyd9rh0000gn/T/ipykernel_6134/2794631201.py:1: FutureWarning: The provided callable <function std at 0x103e80cc0> is currently using SeriesGroupBy.std. In a future version of pandas, the provided callable will be used directly. To keep current behavior pass the string \"std\" instead.\n",
      "  gender_agg = neuro_comb4.groupby(['Gender']).agg({\"Survival Time in Weeks\": [np.mean,np.std,np.size]})\n"
     ]
    }
   ],
   "source": [
    "gender_agg = neuro_comb4.groupby(['Gender']).agg({\"Survival Time in Weeks\": [np.mean,np.std,np.size]})"
   ]
  },
  {
   "cell_type": "code",
   "execution_count": null,
   "id": "82535e14-9293-4fe4-a500-24d745597606",
   "metadata": {},
   "outputs": [],
   "source": [
    "df = pd.DataFrame([1,2])"
   ]
  },
  {
   "cell_type": "code",
   "execution_count": null,
   "id": "e2073d3b-a564-4b88-b262-0ea20fa0bc30",
   "metadata": {},
   "outputs": [],
   "source": [
    "df"
   ]
  },
  {
   "cell_type": "code",
   "execution_count": null,
   "id": "0820acd5-5022-497c-951c-654aba8c7d44",
   "metadata": {},
   "outputs": [],
   "source": [
    "gender_agg['t_test'] = [1000,2]"
   ]
  },
  {
   "cell_type": "code",
   "execution_count": null,
   "id": "c9501df5-75e9-4c2d-a2ac-7268dbf1d30b",
   "metadata": {},
   "outputs": [],
   "source": [
    "gender_agg"
   ]
  },
  {
   "cell_type": "code",
   "execution_count": null,
   "id": "6352ddc3-4f91-42c8-99f8-a395182bb811",
   "metadata": {},
   "outputs": [],
   "source": [
    "national_agg"
   ]
  },
  {
   "cell_type": "code",
   "execution_count": null,
   "id": "6ec1ecf6-6727-44b9-a2ce-2025612b31a8",
   "metadata": {},
   "outputs": [],
   "source": [
    "national_agg[\"one-sample t-test\"] = [0.76,-1.33,-0.19,-1.18,-0.85,0.69]"
   ]
  },
  {
   "cell_type": "code",
   "execution_count": null,
   "id": "f612636f-ce8e-41cd-84f6-4014dc7ce1ff",
   "metadata": {},
   "outputs": [],
   "source": [
    "national_agg"
   ]
  },
  {
   "cell_type": "code",
   "execution_count": null,
   "id": "6926b7a9-c5db-4137-aaa1-1158fdfdfaa4",
   "metadata": {},
   "outputs": [],
   "source": [
    "national_agg[\"p-value\"] = [0.45,0.18,0.85,0.24,0.4,0.49]"
   ]
  },
  {
   "cell_type": "code",
   "execution_count": null,
   "id": "19e9d45d-8417-49ac-a7e6-2092c62a2dab",
   "metadata": {
    "editable": true,
    "slideshow": {
     "slide_type": ""
    },
    "tags": []
   },
   "outputs": [],
   "source": [
    "national_agg"
   ]
  },
  {
   "cell_type": "code",
   "execution_count": null,
   "id": "5eb12381-4b0c-45d3-997d-d97428413588",
   "metadata": {},
   "outputs": [],
   "source": [
    "national_agg.rename(columns = {'one-sample t-test':'t-test'}, inplace = True)"
   ]
  },
  {
   "cell_type": "code",
   "execution_count": null,
   "id": "1fd3180d-0901-4e4b-b47e-a2cd61e7fb10",
   "metadata": {},
   "outputs": [],
   "source": [
    "national_agg"
   ]
  },
  {
   "cell_type": "code",
   "execution_count": 106,
   "id": "7a886244-b6b2-468b-95e7-73758610eb04",
   "metadata": {},
   "outputs": [],
   "source": [
    "gender_vital = neuro_comb4.groupby(['Gender','Vital Status']).agg({'Vital Status' : 'count'})"
   ]
  },
  {
   "cell_type": "code",
   "execution_count": null,
   "id": "5b3aea61-5117-474e-be7b-fb672a78b9cd",
   "metadata": {},
   "outputs": [],
   "source": [
    "gender_vital"
   ]
  },
  {
   "cell_type": "code",
   "execution_count": 108,
   "id": "75c11cfc-b3c5-4cc8-bcd3-9c7930137d15",
   "metadata": {},
   "outputs": [],
   "source": [
    "nationality_vital = neuro_comb4.groupby(['Nationality','Vital Status']).agg({'Vital Status' : 'count'})"
   ]
  },
  {
   "cell_type": "code",
   "execution_count": 110,
   "id": "a0f79f7f-72c0-4412-8914-6c596ecd4b50",
   "metadata": {},
   "outputs": [],
   "source": [
    "demo_vital = pd.concat([gender_vital,nationality_vital])"
   ]
  },
  {
   "cell_type": "code",
   "execution_count": 112,
   "id": "a68d1947-410e-4e0a-8250-18870e732c73",
   "metadata": {},
   "outputs": [
    {
     "data": {
      "text/html": [
       "<div>\n",
       "<style scoped>\n",
       "    .dataframe tbody tr th:only-of-type {\n",
       "        vertical-align: middle;\n",
       "    }\n",
       "\n",
       "    .dataframe tbody tr th {\n",
       "        vertical-align: top;\n",
       "    }\n",
       "\n",
       "    .dataframe thead th {\n",
       "        text-align: right;\n",
       "    }\n",
       "</style>\n",
       "<table border=\"1\" class=\"dataframe\">\n",
       "  <thead>\n",
       "    <tr style=\"text-align: right;\">\n",
       "      <th></th>\n",
       "      <th></th>\n",
       "      <th>Vital Status</th>\n",
       "    </tr>\n",
       "    <tr>\n",
       "      <th></th>\n",
       "      <th>Vital Status</th>\n",
       "      <th></th>\n",
       "    </tr>\n",
       "  </thead>\n",
       "  <tbody>\n",
       "    <tr>\n",
       "      <th rowspan=\"2\" valign=\"top\">Female</th>\n",
       "      <th>Alive</th>\n",
       "      <td>234</td>\n",
       "    </tr>\n",
       "    <tr>\n",
       "      <th>Dead</th>\n",
       "      <td>153</td>\n",
       "    </tr>\n",
       "    <tr>\n",
       "      <th rowspan=\"2\" valign=\"top\">Male</th>\n",
       "      <th>Alive</th>\n",
       "      <td>326</td>\n",
       "    </tr>\n",
       "    <tr>\n",
       "      <th>Dead</th>\n",
       "      <td>194</td>\n",
       "    </tr>\n",
       "    <tr>\n",
       "      <th rowspan=\"2\" valign=\"top\">Asian</th>\n",
       "      <th>Alive</th>\n",
       "      <td>15</td>\n",
       "    </tr>\n",
       "    <tr>\n",
       "      <th>Dead</th>\n",
       "      <td>7</td>\n",
       "    </tr>\n",
       "    <tr>\n",
       "      <th rowspan=\"2\" valign=\"top\">Black</th>\n",
       "      <th>Alive</th>\n",
       "      <td>63</td>\n",
       "    </tr>\n",
       "    <tr>\n",
       "      <th>Dead</th>\n",
       "      <td>41</td>\n",
       "    </tr>\n",
       "    <tr>\n",
       "      <th rowspan=\"2\" valign=\"top\">Hispanic</th>\n",
       "      <th>Alive</th>\n",
       "      <td>22</td>\n",
       "    </tr>\n",
       "    <tr>\n",
       "      <th>Dead</th>\n",
       "      <td>10</td>\n",
       "    </tr>\n",
       "    <tr>\n",
       "      <th rowspan=\"2\" valign=\"top\">Native American</th>\n",
       "      <th>Alive</th>\n",
       "      <td>5</td>\n",
       "    </tr>\n",
       "    <tr>\n",
       "      <th>Dead</th>\n",
       "      <td>6</td>\n",
       "    </tr>\n",
       "    <tr>\n",
       "      <th rowspan=\"2\" valign=\"top\">Unknown</th>\n",
       "      <th>Alive</th>\n",
       "      <td>32</td>\n",
       "    </tr>\n",
       "    <tr>\n",
       "      <th>Dead</th>\n",
       "      <td>21</td>\n",
       "    </tr>\n",
       "    <tr>\n",
       "      <th rowspan=\"2\" valign=\"top\">White</th>\n",
       "      <th>Alive</th>\n",
       "      <td>423</td>\n",
       "    </tr>\n",
       "    <tr>\n",
       "      <th>Dead</th>\n",
       "      <td>262</td>\n",
       "    </tr>\n",
       "  </tbody>\n",
       "</table>\n",
       "</div>"
      ],
      "text/plain": [
       "                              Vital Status\n",
       "                Vital Status              \n",
       "Female          Alive                  234\n",
       "                Dead                   153\n",
       "Male            Alive                  326\n",
       "                Dead                   194\n",
       "Asian           Alive                   15\n",
       "                Dead                     7\n",
       "Black           Alive                   63\n",
       "                Dead                    41\n",
       "Hispanic        Alive                   22\n",
       "                Dead                    10\n",
       "Native American Alive                    5\n",
       "                Dead                     6\n",
       "Unknown         Alive                   32\n",
       "                Dead                    21\n",
       "White           Alive                  423\n",
       "                Dead                   262"
      ]
     },
     "execution_count": 112,
     "metadata": {},
     "output_type": "execute_result"
    }
   ],
   "source": [
    "demo_vital"
   ]
  },
  {
   "cell_type": "code",
   "execution_count": 104,
   "id": "47c768ee-d8c9-4947-b7bd-f948cbc3de87",
   "metadata": {},
   "outputs": [
    {
     "data": {
      "text/html": [
       "<div>\n",
       "<style scoped>\n",
       "    .dataframe tbody tr th:only-of-type {\n",
       "        vertical-align: middle;\n",
       "    }\n",
       "\n",
       "    .dataframe tbody tr th {\n",
       "        vertical-align: top;\n",
       "    }\n",
       "\n",
       "    .dataframe thead th {\n",
       "        text-align: right;\n",
       "    }\n",
       "</style>\n",
       "<table border=\"1\" class=\"dataframe\">\n",
       "  <thead>\n",
       "    <tr style=\"text-align: right;\">\n",
       "      <th></th>\n",
       "      <th></th>\n",
       "      <th>Vital Status</th>\n",
       "    </tr>\n",
       "    <tr>\n",
       "      <th>MYCN status</th>\n",
       "      <th>Vital Status</th>\n",
       "      <th></th>\n",
       "    </tr>\n",
       "  </thead>\n",
       "  <tbody>\n",
       "    <tr>\n",
       "      <th rowspan=\"2\" valign=\"top\">Amplified</th>\n",
       "      <th>Alive</th>\n",
       "      <td>146</td>\n",
       "    </tr>\n",
       "    <tr>\n",
       "      <th>Dead</th>\n",
       "      <td>143</td>\n",
       "    </tr>\n",
       "    <tr>\n",
       "      <th rowspan=\"2\" valign=\"top\">Not Amplified</th>\n",
       "      <th>Alive</th>\n",
       "      <td>408</td>\n",
       "    </tr>\n",
       "    <tr>\n",
       "      <th>Dead</th>\n",
       "      <td>199</td>\n",
       "    </tr>\n",
       "    <tr>\n",
       "      <th rowspan=\"2\" valign=\"top\">Unknown</th>\n",
       "      <th>Alive</th>\n",
       "      <td>6</td>\n",
       "    </tr>\n",
       "    <tr>\n",
       "      <th>Dead</th>\n",
       "      <td>5</td>\n",
       "    </tr>\n",
       "  </tbody>\n",
       "</table>\n",
       "</div>"
      ],
      "text/plain": [
       "                            Vital Status\n",
       "MYCN status   Vital Status              \n",
       "Amplified     Alive                  146\n",
       "              Dead                   143\n",
       "Not Amplified Alive                  408\n",
       "              Dead                   199\n",
       "Unknown       Alive                    6\n",
       "              Dead                     5"
      ]
     },
     "execution_count": 104,
     "metadata": {},
     "output_type": "execute_result"
    }
   ],
   "source": [
    "neuro_comb4.groupby(['MYCN status','Vital Status']).agg({'Vital Status' : 'count'})"
   ]
  },
  {
   "cell_type": "code",
   "execution_count": null,
   "id": "5aa6be77-b3e1-4c83-b732-e6e2c756f3d3",
   "metadata": {},
   "outputs": [],
   "source": [
    "demo_vital.drop(\"Unknown\", inplace = True)"
   ]
  },
  {
   "cell_type": "code",
   "execution_count": null,
   "id": "74efe506-1e93-42ab-9ab3-0cb407bf977b",
   "metadata": {},
   "outputs": [],
   "source": [
    "demo_vital"
   ]
  },
  {
   "cell_type": "code",
   "execution_count": null,
   "id": "da250867-2749-4420-b9bd-5df16164ca60",
   "metadata": {},
   "outputs": [],
   "source": [
    "neuro_comb4.groupby(['Vital Status']).agg({\"Survival Time in Weeks\": [np.mean,np.std,np.size]})"
   ]
  },
  {
   "cell_type": "code",
   "execution_count": null,
   "id": "c7198e96-748e-47d8-9b2e-cd79e8524ed7",
   "metadata": {
    "editable": true,
    "slideshow": {
     "slide_type": ""
    },
    "tags": []
   },
   "outputs": [],
   "source": [
    "neuro_comb4['Age at Diagnosis in Weeks'].max()"
   ]
  },
  {
   "cell_type": "code",
   "execution_count": null,
   "id": "afbaa870-2beb-4378-8565-577b05c30182",
   "metadata": {},
   "outputs": [],
   "source": [
    "neuro_comb4['Age at Diagnosis in Weeks'].mean()"
   ]
  },
  {
   "cell_type": "code",
   "execution_count": null,
   "id": "b70c5c93-4da5-49a6-9b38-ce827c0d2446",
   "metadata": {},
   "outputs": [],
   "source": [
    "neuro_diagnosis = neuro_comb4.sort_values(\"Age at Diagnosis in Weeks\", ascending = False)"
   ]
  },
  {
   "cell_type": "code",
   "execution_count": null,
   "id": "bcdaec01-321c-4725-a0a6-3299535f411d",
   "metadata": {},
   "outputs": [],
   "source": [
    "neuro_diagnosis_numbered = neuro_diagnosis.reset_index()"
   ]
  },
  {
   "cell_type": "code",
   "execution_count": null,
   "id": "28d9497a-db69-4835-9b00-77ff6a667777",
   "metadata": {},
   "outputs": [],
   "source": [
    "neuro_diagnosis_numbered.loc[:30]"
   ]
  },
  {
   "cell_type": "code",
   "execution_count": null,
   "id": "f3615437-ded2-4a8c-8d33-7e99841f843b",
   "metadata": {},
   "outputs": [],
   "source": [
    "neuro_comb4.info()"
   ]
  },
  {
   "cell_type": "code",
   "execution_count": 98,
   "id": "5ada38f6-fd0e-4568-ad65-22759822baf7",
   "metadata": {
    "editable": true,
    "slideshow": {
     "slide_type": ""
    },
    "tags": []
   },
   "outputs": [
    {
     "name": "stderr",
     "output_type": "stream",
     "text": [
      "/var/folders/n3/hnlqb6zn2hvgrm0p9qhyd9rh0000gn/T/ipykernel_6134/848253039.py:11: SettingWithCopyWarning: \n",
      "A value is trying to be set on a copy of a slice from a DataFrame.\n",
      "Try using .loc[row_indexer,col_indexer] = value instead\n",
      "\n",
      "See the caveats in the documentation: https://pandas.pydata.org/pandas-docs/stable/user_guide/indexing.html#returning-a-view-versus-a-copy\n",
      "  neuro_comb4['Diagnosis Age Range in Years'] = neuro_comb4.apply(age_var, axis=1)\n"
     ]
    }
   ],
   "source": [
    "def age_var(row):\n",
    "    if row['Age at Diagnosis in Weeks'] < 104:\n",
    "        return \"0-2\"\n",
    "    elif row['Age at Diagnosis in Weeks'] < 260:\n",
    "        return \"2-5\"\n",
    "    elif row['Age at Diagnosis in Weeks'] < 520:\n",
    "        return \"5-10\"\n",
    "    elif row['Age at Diagnosis in Weeks'] > 520:\n",
    "        return \"10+\"\n",
    "\n",
    "neuro_comb4['Diagnosis Age Range in Years'] = neuro_comb4.apply(age_var, axis=1)"
   ]
  },
  {
   "cell_type": "code",
   "execution_count": null,
   "id": "42d980d3-7bca-48ca-9ce9-fbc3c9c750d9",
   "metadata": {},
   "outputs": [],
   "source": [
    "neuro_comb4"
   ]
  },
  {
   "cell_type": "code",
   "execution_count": null,
   "id": "a3a3046e-5549-4747-9828-fa57949cbdf0",
   "metadata": {},
   "outputs": [],
   "source": [
    "neuro_comb4.sort_values(\"Age at Diagnosis in Weeks\", ascending = False)"
   ]
  },
  {
   "cell_type": "code",
   "execution_count": 100,
   "id": "5b59baa9-e5c6-477a-96ed-cdb58ce6b160",
   "metadata": {
    "editable": true,
    "slideshow": {
     "slide_type": ""
    },
    "tags": []
   },
   "outputs": [
    {
     "name": "stderr",
     "output_type": "stream",
     "text": [
      "/var/folders/n3/hnlqb6zn2hvgrm0p9qhyd9rh0000gn/T/ipykernel_6134/569463248.py:1: FutureWarning: The provided callable <function mean at 0x103e80b80> is currently using SeriesGroupBy.mean. In a future version of pandas, the provided callable will be used directly. To keep current behavior pass the string \"mean\" instead.\n",
      "  diagnosis_agg = neuro_comb4.groupby(['Diagnosis Age Range in Years']).agg({\"Survival Time in Weeks\": [np.mean,np.std,np.size]})\n",
      "/var/folders/n3/hnlqb6zn2hvgrm0p9qhyd9rh0000gn/T/ipykernel_6134/569463248.py:1: FutureWarning: The provided callable <function std at 0x103e80cc0> is currently using SeriesGroupBy.std. In a future version of pandas, the provided callable will be used directly. To keep current behavior pass the string \"std\" instead.\n",
      "  diagnosis_agg = neuro_comb4.groupby(['Diagnosis Age Range in Years']).agg({\"Survival Time in Weeks\": [np.mean,np.std,np.size]})\n"
     ]
    }
   ],
   "source": [
    "diagnosis_agg = neuro_comb4.groupby(['Diagnosis Age Range in Years']).agg({\"Survival Time in Weeks\": [np.mean,np.std,np.size]})"
   ]
  },
  {
   "cell_type": "code",
   "execution_count": null,
   "id": "94fc51d2-3a0f-4e64-a71e-f6527cc22ceb",
   "metadata": {
    "editable": true,
    "slideshow": {
     "slide_type": ""
    },
    "tags": []
   },
   "outputs": [],
   "source": [
    "diagnosis_agg"
   ]
  },
  {
   "cell_type": "code",
   "execution_count": null,
   "id": "9bbc3b1a-f35b-49e8-9f7f-6a91a1492592",
   "metadata": {},
   "outputs": [],
   "source": [
    "diagnosis_agg['t-test'] = [3.92,-0.47,-3.35,-0.33]"
   ]
  },
  {
   "cell_type": "code",
   "execution_count": null,
   "id": "49b1072a-387e-44d7-8091-72815473dfa9",
   "metadata": {},
   "outputs": [],
   "source": [
    "diagnosis_agg2 = diagnosis_agg.copy()"
   ]
  },
  {
   "cell_type": "code",
   "execution_count": null,
   "id": "f7d0910e-187f-40dc-81ff-3a96cd939055",
   "metadata": {},
   "outputs": [],
   "source": [
    "diagnosis_agg2"
   ]
  },
  {
   "cell_type": "code",
   "execution_count": null,
   "id": "a0932157-a2e0-4238-a56c-266e4583a1b4",
   "metadata": {},
   "outputs": [],
   "source": [
    "diagnosis_agg2['p-value'] = [0,0.64,0,0.74]"
   ]
  },
  {
   "cell_type": "code",
   "execution_count": null,
   "id": "3af99191-2f5a-4159-88d9-a1a800452e60",
   "metadata": {},
   "outputs": [],
   "source": [
    "diagnosis_agg2"
   ]
  },
  {
   "cell_type": "code",
   "execution_count": 102,
   "id": "5364f5fb-4a5a-453c-9f43-5d589141faaf",
   "metadata": {},
   "outputs": [
    {
     "data": {
      "text/html": [
       "<div>\n",
       "<style scoped>\n",
       "    .dataframe tbody tr th:only-of-type {\n",
       "        vertical-align: middle;\n",
       "    }\n",
       "\n",
       "    .dataframe tbody tr th {\n",
       "        vertical-align: top;\n",
       "    }\n",
       "\n",
       "    .dataframe thead th {\n",
       "        text-align: right;\n",
       "    }\n",
       "</style>\n",
       "<table border=\"1\" class=\"dataframe\">\n",
       "  <thead>\n",
       "    <tr style=\"text-align: right;\">\n",
       "      <th></th>\n",
       "      <th>target_usi</th>\n",
       "      <th>Gender</th>\n",
       "      <th>Nationality</th>\n",
       "      <th>Age at Diagnosis in Weeks</th>\n",
       "      <th>Vital Status</th>\n",
       "      <th>Survival Time in Weeks</th>\n",
       "      <th>Year of Diagnosis</th>\n",
       "      <th>Year of Last Follow Up</th>\n",
       "      <th>INSS Stage</th>\n",
       "      <th>MYCN status</th>\n",
       "      <th>...</th>\n",
       "      <th>Ploidy Value</th>\n",
       "      <th>Histology</th>\n",
       "      <th>Tumor_Grade</th>\n",
       "      <th>MKI</th>\n",
       "      <th>Diagnostic Category</th>\n",
       "      <th>COG Risk Group</th>\n",
       "      <th>Percent Tumor</th>\n",
       "      <th>Percent Necrosis</th>\n",
       "      <th>Percent Tumor v/s Stroma</th>\n",
       "      <th>Diagnosis Age Range in Years</th>\n",
       "    </tr>\n",
       "  </thead>\n",
       "  <tbody>\n",
       "    <tr>\n",
       "      <th>12</th>\n",
       "      <td>PADFLI</td>\n",
       "      <td>Male</td>\n",
       "      <td>White</td>\n",
       "      <td>80.0</td>\n",
       "      <td>Alive</td>\n",
       "      <td>410.0</td>\n",
       "      <td>1991</td>\n",
       "      <td>1999.0</td>\n",
       "      <td>Stage 4</td>\n",
       "      <td>Not Amplified</td>\n",
       "      <td>...</td>\n",
       "      <td>NaN</td>\n",
       "      <td>Unfavorable</td>\n",
       "      <td>3-4</td>\n",
       "      <td>High</td>\n",
       "      <td>Neuroblastoma</td>\n",
       "      <td>High Risk</td>\n",
       "      <td>NaN</td>\n",
       "      <td>NaN</td>\n",
       "      <td>NaN</td>\n",
       "      <td>0-2</td>\n",
       "    </tr>\n",
       "    <tr>\n",
       "      <th>15</th>\n",
       "      <td>PADIHC</td>\n",
       "      <td>Male</td>\n",
       "      <td>White</td>\n",
       "      <td>274.0</td>\n",
       "      <td>Alive</td>\n",
       "      <td>657.0</td>\n",
       "      <td>1992</td>\n",
       "      <td>2005.0</td>\n",
       "      <td>Stage 4</td>\n",
       "      <td>Not Amplified</td>\n",
       "      <td>...</td>\n",
       "      <td>NaN</td>\n",
       "      <td>Unfavorable</td>\n",
       "      <td>3-4</td>\n",
       "      <td>Low</td>\n",
       "      <td>Neuroblastoma</td>\n",
       "      <td>High Risk</td>\n",
       "      <td>NaN</td>\n",
       "      <td>NaN</td>\n",
       "      <td>NaN</td>\n",
       "      <td>5-10</td>\n",
       "    </tr>\n",
       "    <tr>\n",
       "      <th>16</th>\n",
       "      <td>PADINC</td>\n",
       "      <td>Male</td>\n",
       "      <td>Black</td>\n",
       "      <td>143.0</td>\n",
       "      <td>Dead</td>\n",
       "      <td>58.0</td>\n",
       "      <td>1992</td>\n",
       "      <td>1993.0</td>\n",
       "      <td>Stage 4</td>\n",
       "      <td>Amplified</td>\n",
       "      <td>...</td>\n",
       "      <td>NaN</td>\n",
       "      <td>Unfavorable</td>\n",
       "      <td>3-4</td>\n",
       "      <td>Low</td>\n",
       "      <td>Neuroblastoma</td>\n",
       "      <td>High Risk</td>\n",
       "      <td>NaN</td>\n",
       "      <td>NaN</td>\n",
       "      <td>NaN</td>\n",
       "      <td>2-5</td>\n",
       "    </tr>\n",
       "    <tr>\n",
       "      <th>17</th>\n",
       "      <td>PADIRB</td>\n",
       "      <td>Female</td>\n",
       "      <td>Unknown</td>\n",
       "      <td>170.0</td>\n",
       "      <td>Alive</td>\n",
       "      <td>551.0</td>\n",
       "      <td>1992</td>\n",
       "      <td>2003.0</td>\n",
       "      <td>Stage 4</td>\n",
       "      <td>Not Amplified</td>\n",
       "      <td>...</td>\n",
       "      <td>NaN</td>\n",
       "      <td>Unfavorable</td>\n",
       "      <td>3-4</td>\n",
       "      <td>Low</td>\n",
       "      <td>Neuroblastoma</td>\n",
       "      <td>High Risk</td>\n",
       "      <td>NaN</td>\n",
       "      <td>NaN</td>\n",
       "      <td>NaN</td>\n",
       "      <td>2-5</td>\n",
       "    </tr>\n",
       "    <tr>\n",
       "      <th>20</th>\n",
       "      <td>PADKGF</td>\n",
       "      <td>Male</td>\n",
       "      <td>White</td>\n",
       "      <td>79.0</td>\n",
       "      <td>Alive</td>\n",
       "      <td>378.0</td>\n",
       "      <td>1992</td>\n",
       "      <td>2000.0</td>\n",
       "      <td>Stage 4</td>\n",
       "      <td>Not Amplified</td>\n",
       "      <td>...</td>\n",
       "      <td>NaN</td>\n",
       "      <td>Unfavorable</td>\n",
       "      <td>3-4</td>\n",
       "      <td>High</td>\n",
       "      <td>Neuroblastoma</td>\n",
       "      <td>High Risk</td>\n",
       "      <td>NaN</td>\n",
       "      <td>NaN</td>\n",
       "      <td>NaN</td>\n",
       "      <td>0-2</td>\n",
       "    </tr>\n",
       "    <tr>\n",
       "      <th>...</th>\n",
       "      <td>...</td>\n",
       "      <td>...</td>\n",
       "      <td>...</td>\n",
       "      <td>...</td>\n",
       "      <td>...</td>\n",
       "      <td>...</td>\n",
       "      <td>...</td>\n",
       "      <td>...</td>\n",
       "      <td>...</td>\n",
       "      <td>...</td>\n",
       "      <td>...</td>\n",
       "      <td>...</td>\n",
       "      <td>...</td>\n",
       "      <td>...</td>\n",
       "      <td>...</td>\n",
       "      <td>...</td>\n",
       "      <td>...</td>\n",
       "      <td>...</td>\n",
       "      <td>...</td>\n",
       "      <td>...</td>\n",
       "      <td>...</td>\n",
       "    </tr>\n",
       "    <tr>\n",
       "      <th>494</th>\n",
       "      <td>PAVDPE</td>\n",
       "      <td>Male</td>\n",
       "      <td>White</td>\n",
       "      <td>164.0</td>\n",
       "      <td>Alive</td>\n",
       "      <td>33.0</td>\n",
       "      <td>2012</td>\n",
       "      <td>2013.0</td>\n",
       "      <td>Stage 4</td>\n",
       "      <td>Amplified</td>\n",
       "      <td>...</td>\n",
       "      <td>1.00</td>\n",
       "      <td>Unfavorable</td>\n",
       "      <td>3-4</td>\n",
       "      <td>Intermediate</td>\n",
       "      <td>Neuroblastoma</td>\n",
       "      <td>High Risk</td>\n",
       "      <td>70</td>\n",
       "      <td>NaN</td>\n",
       "      <td>NaN</td>\n",
       "      <td>2-5</td>\n",
       "    </tr>\n",
       "    <tr>\n",
       "      <th>495</th>\n",
       "      <td>PAVDYS</td>\n",
       "      <td>Male</td>\n",
       "      <td>Black</td>\n",
       "      <td>3.0</td>\n",
       "      <td>Alive</td>\n",
       "      <td>268.0</td>\n",
       "      <td>2012</td>\n",
       "      <td>2017.0</td>\n",
       "      <td>Stage 2b</td>\n",
       "      <td>Not Amplified</td>\n",
       "      <td>...</td>\n",
       "      <td>1.32</td>\n",
       "      <td>Favorable</td>\n",
       "      <td>3-4</td>\n",
       "      <td>Low</td>\n",
       "      <td>Neuroblastoma</td>\n",
       "      <td>Low Risk</td>\n",
       "      <td>80</td>\n",
       "      <td>NaN</td>\n",
       "      <td>NaN</td>\n",
       "      <td>0-2</td>\n",
       "    </tr>\n",
       "    <tr>\n",
       "      <th>496</th>\n",
       "      <td>PAVEKN</td>\n",
       "      <td>Female</td>\n",
       "      <td>White</td>\n",
       "      <td>293.0</td>\n",
       "      <td>Dead</td>\n",
       "      <td>73.0</td>\n",
       "      <td>2012</td>\n",
       "      <td>2014.0</td>\n",
       "      <td>Stage 4</td>\n",
       "      <td>Not Amplified</td>\n",
       "      <td>...</td>\n",
       "      <td>1.91</td>\n",
       "      <td>Unfavorable</td>\n",
       "      <td>3-4</td>\n",
       "      <td>Intermediate</td>\n",
       "      <td>Neuroblastoma</td>\n",
       "      <td>High Risk</td>\n",
       "      <td>95</td>\n",
       "      <td>NaN</td>\n",
       "      <td>NaN</td>\n",
       "      <td>5-10</td>\n",
       "    </tr>\n",
       "    <tr>\n",
       "      <th>497</th>\n",
       "      <td>PAVETV</td>\n",
       "      <td>Male</td>\n",
       "      <td>White</td>\n",
       "      <td>157.0</td>\n",
       "      <td>Alive</td>\n",
       "      <td>104.0</td>\n",
       "      <td>2012</td>\n",
       "      <td>2014.0</td>\n",
       "      <td>Stage 4</td>\n",
       "      <td>Amplified</td>\n",
       "      <td>...</td>\n",
       "      <td>1.00</td>\n",
       "      <td>Unfavorable</td>\n",
       "      <td>3-4</td>\n",
       "      <td>High</td>\n",
       "      <td>Neuroblastoma</td>\n",
       "      <td>High Risk</td>\n",
       "      <td>90</td>\n",
       "      <td>NaN</td>\n",
       "      <td>NaN</td>\n",
       "      <td>2-5</td>\n",
       "    </tr>\n",
       "    <tr>\n",
       "      <th>498</th>\n",
       "      <td>PAVEZM</td>\n",
       "      <td>Female</td>\n",
       "      <td>White</td>\n",
       "      <td>360.0</td>\n",
       "      <td>Alive</td>\n",
       "      <td>280.0</td>\n",
       "      <td>2012</td>\n",
       "      <td>2018.0</td>\n",
       "      <td>Stage 4</td>\n",
       "      <td>Amplified</td>\n",
       "      <td>...</td>\n",
       "      <td>1.00</td>\n",
       "      <td>Unfavorable</td>\n",
       "      <td>3-4</td>\n",
       "      <td>High</td>\n",
       "      <td>Neuroblastoma</td>\n",
       "      <td>High Risk</td>\n",
       "      <td>90</td>\n",
       "      <td>NaN</td>\n",
       "      <td>NaN</td>\n",
       "      <td>5-10</td>\n",
       "    </tr>\n",
       "  </tbody>\n",
       "</table>\n",
       "<p>907 rows × 21 columns</p>\n",
       "</div>"
      ],
      "text/plain": [
       "    target_usi  Gender Nationality  Age at Diagnosis in Weeks Vital Status  \\\n",
       "12      PADFLI    Male       White                       80.0        Alive   \n",
       "15      PADIHC    Male       White                      274.0        Alive   \n",
       "16      PADINC    Male       Black                      143.0         Dead   \n",
       "17      PADIRB  Female     Unknown                      170.0        Alive   \n",
       "20      PADKGF    Male       White                       79.0        Alive   \n",
       "..         ...     ...         ...                        ...          ...   \n",
       "494     PAVDPE    Male       White                      164.0        Alive   \n",
       "495     PAVDYS    Male       Black                        3.0        Alive   \n",
       "496     PAVEKN  Female       White                      293.0         Dead   \n",
       "497     PAVETV    Male       White                      157.0        Alive   \n",
       "498     PAVEZM  Female       White                      360.0        Alive   \n",
       "\n",
       "     Survival Time in Weeks  Year of Diagnosis  Year of Last Follow Up  \\\n",
       "12                    410.0               1991                  1999.0   \n",
       "15                    657.0               1992                  2005.0   \n",
       "16                     58.0               1992                  1993.0   \n",
       "17                    551.0               1992                  2003.0   \n",
       "20                    378.0               1992                  2000.0   \n",
       "..                      ...                ...                     ...   \n",
       "494                    33.0               2012                  2013.0   \n",
       "495                   268.0               2012                  2017.0   \n",
       "496                    73.0               2012                  2014.0   \n",
       "497                   104.0               2012                  2014.0   \n",
       "498                   280.0               2012                  2018.0   \n",
       "\n",
       "    INSS Stage    MYCN status  ... Ploidy Value    Histology Tumor_Grade  \\\n",
       "12     Stage 4  Not Amplified  ...          NaN  Unfavorable         3-4   \n",
       "15     Stage 4  Not Amplified  ...          NaN  Unfavorable         3-4   \n",
       "16     Stage 4      Amplified  ...          NaN  Unfavorable         3-4   \n",
       "17     Stage 4  Not Amplified  ...          NaN  Unfavorable         3-4   \n",
       "20     Stage 4  Not Amplified  ...          NaN  Unfavorable         3-4   \n",
       "..         ...            ...  ...          ...          ...         ...   \n",
       "494    Stage 4      Amplified  ...         1.00  Unfavorable         3-4   \n",
       "495   Stage 2b  Not Amplified  ...         1.32    Favorable         3-4   \n",
       "496    Stage 4  Not Amplified  ...         1.91  Unfavorable         3-4   \n",
       "497    Stage 4      Amplified  ...         1.00  Unfavorable         3-4   \n",
       "498    Stage 4      Amplified  ...         1.00  Unfavorable         3-4   \n",
       "\n",
       "              MKI Diagnostic Category COG Risk Group Percent Tumor  \\\n",
       "12           High       Neuroblastoma      High Risk           NaN   \n",
       "15            Low       Neuroblastoma      High Risk           NaN   \n",
       "16            Low       Neuroblastoma      High Risk           NaN   \n",
       "17            Low       Neuroblastoma      High Risk           NaN   \n",
       "20           High       Neuroblastoma      High Risk           NaN   \n",
       "..            ...                 ...            ...           ...   \n",
       "494  Intermediate       Neuroblastoma      High Risk            70   \n",
       "495           Low       Neuroblastoma       Low Risk            80   \n",
       "496  Intermediate       Neuroblastoma      High Risk            95   \n",
       "497          High       Neuroblastoma      High Risk            90   \n",
       "498          High       Neuroblastoma      High Risk            90   \n",
       "\n",
       "    Percent Necrosis Percent Tumor v/s Stroma Diagnosis Age Range in Years  \n",
       "12               NaN                      NaN                          0-2  \n",
       "15               NaN                      NaN                         5-10  \n",
       "16               NaN                      NaN                          2-5  \n",
       "17               NaN                      NaN                          2-5  \n",
       "20               NaN                      NaN                          0-2  \n",
       "..               ...                      ...                          ...  \n",
       "494              NaN                      NaN                          2-5  \n",
       "495              NaN                      NaN                          0-2  \n",
       "496              NaN                      NaN                         5-10  \n",
       "497              NaN                      NaN                          2-5  \n",
       "498              NaN                      NaN                         5-10  \n",
       "\n",
       "[907 rows x 21 columns]"
      ]
     },
     "execution_count": 102,
     "metadata": {},
     "output_type": "execute_result"
    }
   ],
   "source": [
    "neuro_comb4"
   ]
  },
  {
   "cell_type": "code",
   "execution_count": 124,
   "id": "03de5e38-8961-4a60-98d3-e0f987ed0cc6",
   "metadata": {},
   "outputs": [],
   "source": [
    "neuro_stat = pd.DataFrame([[0.84,-6,-6.69,-9.77,-1.7,-2,-4.76],[0.40,0,0,0,0.09,0.046,0],[\"No\",\"Yes\",\"Yes\",\"Yes\",\"No\",\"Yes\",\"Yes\"]],\n",
    "    columns = [\"Male vs Female\",\"MYCN Amplified vs NonAmplified\",\"Diploid vs Hyperdiploid\",\"Histology Unfavorable vs Favorable\", \"MKI High vs Intermediate\",\"MKI Intermediate vs Low\",\"MKI High vs Low\"],\n",
    "                          index = [\"Survival Time t-test\", \"p-value\", \"Statistically Significant?\"])\n",
    "                                    "
   ]
  },
  {
   "cell_type": "code",
   "execution_count": 126,
   "id": "24206b19-9393-4d3a-a33b-cb7b589da288",
   "metadata": {},
   "outputs": [
    {
     "data": {
      "text/html": [
       "<div>\n",
       "<style scoped>\n",
       "    .dataframe tbody tr th:only-of-type {\n",
       "        vertical-align: middle;\n",
       "    }\n",
       "\n",
       "    .dataframe tbody tr th {\n",
       "        vertical-align: top;\n",
       "    }\n",
       "\n",
       "    .dataframe thead th {\n",
       "        text-align: right;\n",
       "    }\n",
       "</style>\n",
       "<table border=\"1\" class=\"dataframe\">\n",
       "  <thead>\n",
       "    <tr style=\"text-align: right;\">\n",
       "      <th></th>\n",
       "      <th>Male vs Female</th>\n",
       "      <th>MYCN Amplified vs NonAmplified</th>\n",
       "      <th>Diploid vs Hyperdiploid</th>\n",
       "      <th>Histology Unfavorable vs Favorable</th>\n",
       "      <th>MKI High vs Intermediate</th>\n",
       "      <th>MKI Intermediate vs Low</th>\n",
       "      <th>MKI High vs Low</th>\n",
       "    </tr>\n",
       "  </thead>\n",
       "  <tbody>\n",
       "    <tr>\n",
       "      <th>Survival Time t-test</th>\n",
       "      <td>0.84</td>\n",
       "      <td>-6</td>\n",
       "      <td>-6.69</td>\n",
       "      <td>-9.77</td>\n",
       "      <td>-1.7</td>\n",
       "      <td>-2</td>\n",
       "      <td>-4.76</td>\n",
       "    </tr>\n",
       "    <tr>\n",
       "      <th>p-value</th>\n",
       "      <td>0.4</td>\n",
       "      <td>0</td>\n",
       "      <td>0</td>\n",
       "      <td>0</td>\n",
       "      <td>0.09</td>\n",
       "      <td>0.046</td>\n",
       "      <td>0</td>\n",
       "    </tr>\n",
       "    <tr>\n",
       "      <th>Statistically Significant?</th>\n",
       "      <td>No</td>\n",
       "      <td>Yes</td>\n",
       "      <td>Yes</td>\n",
       "      <td>Yes</td>\n",
       "      <td>No</td>\n",
       "      <td>Yes</td>\n",
       "      <td>Yes</td>\n",
       "    </tr>\n",
       "  </tbody>\n",
       "</table>\n",
       "</div>"
      ],
      "text/plain": [
       "                           Male vs Female MYCN Amplified vs NonAmplified  \\\n",
       "Survival Time t-test                 0.84                             -6   \n",
       "p-value                               0.4                              0   \n",
       "Statistically Significant?             No                            Yes   \n",
       "\n",
       "                           Diploid vs Hyperdiploid  \\\n",
       "Survival Time t-test                         -6.69   \n",
       "p-value                                          0   \n",
       "Statistically Significant?                     Yes   \n",
       "\n",
       "                           Histology Unfavorable vs Favorable  \\\n",
       "Survival Time t-test                                    -9.77   \n",
       "p-value                                                     0   \n",
       "Statistically Significant?                                Yes   \n",
       "\n",
       "                           MKI High vs Intermediate MKI Intermediate vs Low  \\\n",
       "Survival Time t-test                           -1.7                      -2   \n",
       "p-value                                        0.09                   0.046   \n",
       "Statistically Significant?                       No                     Yes   \n",
       "\n",
       "                           MKI High vs Low  \n",
       "Survival Time t-test                 -4.76  \n",
       "p-value                                  0  \n",
       "Statistically Significant?             Yes  "
      ]
     },
     "execution_count": 126,
     "metadata": {},
     "output_type": "execute_result"
    }
   ],
   "source": [
    "neuro_stat"
   ]
  },
  {
   "cell_type": "code",
   "execution_count": 136,
   "id": "82f03313-c4c3-4ae2-a13b-dbaf0b7cc427",
   "metadata": {},
   "outputs": [],
   "source": [
    "neuro_comb5 = neuro_comb4.loc[:,['target_usi','Gender','Nationality','Age at Diagnosis in Weeks','Diagnosis Age Range in Years','Year of Diagnosis','Year of Last Follow Up',\n",
    "                   'MYCN status','Diploid or Hyperdiploid', 'Histology','Tumor_Grade','MKI',\n",
    "                   'Survival Time in Weeks','Vital Status']]"
   ]
  },
  {
   "cell_type": "code",
   "execution_count": 138,
   "id": "22b8e739-8511-45bc-8c8d-dd6dcd89a6a5",
   "metadata": {},
   "outputs": [
    {
     "data": {
      "text/html": [
       "<div>\n",
       "<style scoped>\n",
       "    .dataframe tbody tr th:only-of-type {\n",
       "        vertical-align: middle;\n",
       "    }\n",
       "\n",
       "    .dataframe tbody tr th {\n",
       "        vertical-align: top;\n",
       "    }\n",
       "\n",
       "    .dataframe thead th {\n",
       "        text-align: right;\n",
       "    }\n",
       "</style>\n",
       "<table border=\"1\" class=\"dataframe\">\n",
       "  <thead>\n",
       "    <tr style=\"text-align: right;\">\n",
       "      <th></th>\n",
       "      <th>target_usi</th>\n",
       "      <th>Gender</th>\n",
       "      <th>Nationality</th>\n",
       "      <th>Age at Diagnosis in Weeks</th>\n",
       "      <th>Diagnosis Age Range in Years</th>\n",
       "      <th>Year of Diagnosis</th>\n",
       "      <th>Year of Last Follow Up</th>\n",
       "      <th>MYCN status</th>\n",
       "      <th>Diploid or Hyperdiploid</th>\n",
       "      <th>Histology</th>\n",
       "      <th>Tumor_Grade</th>\n",
       "      <th>MKI</th>\n",
       "      <th>Survival Time in Weeks</th>\n",
       "      <th>Vital Status</th>\n",
       "    </tr>\n",
       "  </thead>\n",
       "  <tbody>\n",
       "    <tr>\n",
       "      <th>12</th>\n",
       "      <td>PADFLI</td>\n",
       "      <td>Male</td>\n",
       "      <td>White</td>\n",
       "      <td>80.0</td>\n",
       "      <td>0-2</td>\n",
       "      <td>1991</td>\n",
       "      <td>1999.0</td>\n",
       "      <td>Not Amplified</td>\n",
       "      <td>Unknown</td>\n",
       "      <td>Unfavorable</td>\n",
       "      <td>3-4</td>\n",
       "      <td>High</td>\n",
       "      <td>410.0</td>\n",
       "      <td>Alive</td>\n",
       "    </tr>\n",
       "    <tr>\n",
       "      <th>15</th>\n",
       "      <td>PADIHC</td>\n",
       "      <td>Male</td>\n",
       "      <td>White</td>\n",
       "      <td>274.0</td>\n",
       "      <td>5-10</td>\n",
       "      <td>1992</td>\n",
       "      <td>2005.0</td>\n",
       "      <td>Not Amplified</td>\n",
       "      <td>Unknown</td>\n",
       "      <td>Unfavorable</td>\n",
       "      <td>3-4</td>\n",
       "      <td>Low</td>\n",
       "      <td>657.0</td>\n",
       "      <td>Alive</td>\n",
       "    </tr>\n",
       "    <tr>\n",
       "      <th>16</th>\n",
       "      <td>PADINC</td>\n",
       "      <td>Male</td>\n",
       "      <td>Black</td>\n",
       "      <td>143.0</td>\n",
       "      <td>2-5</td>\n",
       "      <td>1992</td>\n",
       "      <td>1993.0</td>\n",
       "      <td>Amplified</td>\n",
       "      <td>Unknown</td>\n",
       "      <td>Unfavorable</td>\n",
       "      <td>3-4</td>\n",
       "      <td>Low</td>\n",
       "      <td>58.0</td>\n",
       "      <td>Dead</td>\n",
       "    </tr>\n",
       "    <tr>\n",
       "      <th>17</th>\n",
       "      <td>PADIRB</td>\n",
       "      <td>Female</td>\n",
       "      <td>Unknown</td>\n",
       "      <td>170.0</td>\n",
       "      <td>2-5</td>\n",
       "      <td>1992</td>\n",
       "      <td>2003.0</td>\n",
       "      <td>Not Amplified</td>\n",
       "      <td>Unknown</td>\n",
       "      <td>Unfavorable</td>\n",
       "      <td>3-4</td>\n",
       "      <td>Low</td>\n",
       "      <td>551.0</td>\n",
       "      <td>Alive</td>\n",
       "    </tr>\n",
       "    <tr>\n",
       "      <th>20</th>\n",
       "      <td>PADKGF</td>\n",
       "      <td>Male</td>\n",
       "      <td>White</td>\n",
       "      <td>79.0</td>\n",
       "      <td>0-2</td>\n",
       "      <td>1992</td>\n",
       "      <td>2000.0</td>\n",
       "      <td>Not Amplified</td>\n",
       "      <td>Unknown</td>\n",
       "      <td>Unfavorable</td>\n",
       "      <td>3-4</td>\n",
       "      <td>High</td>\n",
       "      <td>378.0</td>\n",
       "      <td>Alive</td>\n",
       "    </tr>\n",
       "    <tr>\n",
       "      <th>...</th>\n",
       "      <td>...</td>\n",
       "      <td>...</td>\n",
       "      <td>...</td>\n",
       "      <td>...</td>\n",
       "      <td>...</td>\n",
       "      <td>...</td>\n",
       "      <td>...</td>\n",
       "      <td>...</td>\n",
       "      <td>...</td>\n",
       "      <td>...</td>\n",
       "      <td>...</td>\n",
       "      <td>...</td>\n",
       "      <td>...</td>\n",
       "      <td>...</td>\n",
       "    </tr>\n",
       "    <tr>\n",
       "      <th>494</th>\n",
       "      <td>PAVDPE</td>\n",
       "      <td>Male</td>\n",
       "      <td>White</td>\n",
       "      <td>164.0</td>\n",
       "      <td>2-5</td>\n",
       "      <td>2012</td>\n",
       "      <td>2013.0</td>\n",
       "      <td>Amplified</td>\n",
       "      <td>Diploid</td>\n",
       "      <td>Unfavorable</td>\n",
       "      <td>3-4</td>\n",
       "      <td>Intermediate</td>\n",
       "      <td>33.0</td>\n",
       "      <td>Alive</td>\n",
       "    </tr>\n",
       "    <tr>\n",
       "      <th>495</th>\n",
       "      <td>PAVDYS</td>\n",
       "      <td>Male</td>\n",
       "      <td>Black</td>\n",
       "      <td>3.0</td>\n",
       "      <td>0-2</td>\n",
       "      <td>2012</td>\n",
       "      <td>2017.0</td>\n",
       "      <td>Not Amplified</td>\n",
       "      <td>Hyperdiploid</td>\n",
       "      <td>Favorable</td>\n",
       "      <td>3-4</td>\n",
       "      <td>Low</td>\n",
       "      <td>268.0</td>\n",
       "      <td>Alive</td>\n",
       "    </tr>\n",
       "    <tr>\n",
       "      <th>496</th>\n",
       "      <td>PAVEKN</td>\n",
       "      <td>Female</td>\n",
       "      <td>White</td>\n",
       "      <td>293.0</td>\n",
       "      <td>5-10</td>\n",
       "      <td>2012</td>\n",
       "      <td>2014.0</td>\n",
       "      <td>Not Amplified</td>\n",
       "      <td>Hyperdiploid</td>\n",
       "      <td>Unfavorable</td>\n",
       "      <td>3-4</td>\n",
       "      <td>Intermediate</td>\n",
       "      <td>73.0</td>\n",
       "      <td>Dead</td>\n",
       "    </tr>\n",
       "    <tr>\n",
       "      <th>497</th>\n",
       "      <td>PAVETV</td>\n",
       "      <td>Male</td>\n",
       "      <td>White</td>\n",
       "      <td>157.0</td>\n",
       "      <td>2-5</td>\n",
       "      <td>2012</td>\n",
       "      <td>2014.0</td>\n",
       "      <td>Amplified</td>\n",
       "      <td>Diploid</td>\n",
       "      <td>Unfavorable</td>\n",
       "      <td>3-4</td>\n",
       "      <td>High</td>\n",
       "      <td>104.0</td>\n",
       "      <td>Alive</td>\n",
       "    </tr>\n",
       "    <tr>\n",
       "      <th>498</th>\n",
       "      <td>PAVEZM</td>\n",
       "      <td>Female</td>\n",
       "      <td>White</td>\n",
       "      <td>360.0</td>\n",
       "      <td>5-10</td>\n",
       "      <td>2012</td>\n",
       "      <td>2018.0</td>\n",
       "      <td>Amplified</td>\n",
       "      <td>Diploid</td>\n",
       "      <td>Unfavorable</td>\n",
       "      <td>3-4</td>\n",
       "      <td>High</td>\n",
       "      <td>280.0</td>\n",
       "      <td>Alive</td>\n",
       "    </tr>\n",
       "  </tbody>\n",
       "</table>\n",
       "<p>907 rows × 14 columns</p>\n",
       "</div>"
      ],
      "text/plain": [
       "    target_usi  Gender Nationality  Age at Diagnosis in Weeks  \\\n",
       "12      PADFLI    Male       White                       80.0   \n",
       "15      PADIHC    Male       White                      274.0   \n",
       "16      PADINC    Male       Black                      143.0   \n",
       "17      PADIRB  Female     Unknown                      170.0   \n",
       "20      PADKGF    Male       White                       79.0   \n",
       "..         ...     ...         ...                        ...   \n",
       "494     PAVDPE    Male       White                      164.0   \n",
       "495     PAVDYS    Male       Black                        3.0   \n",
       "496     PAVEKN  Female       White                      293.0   \n",
       "497     PAVETV    Male       White                      157.0   \n",
       "498     PAVEZM  Female       White                      360.0   \n",
       "\n",
       "    Diagnosis Age Range in Years  Year of Diagnosis  Year of Last Follow Up  \\\n",
       "12                           0-2               1991                  1999.0   \n",
       "15                          5-10               1992                  2005.0   \n",
       "16                           2-5               1992                  1993.0   \n",
       "17                           2-5               1992                  2003.0   \n",
       "20                           0-2               1992                  2000.0   \n",
       "..                           ...                ...                     ...   \n",
       "494                          2-5               2012                  2013.0   \n",
       "495                          0-2               2012                  2017.0   \n",
       "496                         5-10               2012                  2014.0   \n",
       "497                          2-5               2012                  2014.0   \n",
       "498                         5-10               2012                  2018.0   \n",
       "\n",
       "       MYCN status Diploid or Hyperdiploid    Histology Tumor_Grade  \\\n",
       "12   Not Amplified                 Unknown  Unfavorable         3-4   \n",
       "15   Not Amplified                 Unknown  Unfavorable         3-4   \n",
       "16       Amplified                 Unknown  Unfavorable         3-4   \n",
       "17   Not Amplified                 Unknown  Unfavorable         3-4   \n",
       "20   Not Amplified                 Unknown  Unfavorable         3-4   \n",
       "..             ...                     ...          ...         ...   \n",
       "494      Amplified                 Diploid  Unfavorable         3-4   \n",
       "495  Not Amplified            Hyperdiploid    Favorable         3-4   \n",
       "496  Not Amplified            Hyperdiploid  Unfavorable         3-4   \n",
       "497      Amplified                 Diploid  Unfavorable         3-4   \n",
       "498      Amplified                 Diploid  Unfavorable         3-4   \n",
       "\n",
       "              MKI  Survival Time in Weeks Vital Status  \n",
       "12           High                   410.0        Alive  \n",
       "15            Low                   657.0        Alive  \n",
       "16            Low                    58.0         Dead  \n",
       "17            Low                   551.0        Alive  \n",
       "20           High                   378.0        Alive  \n",
       "..            ...                     ...          ...  \n",
       "494  Intermediate                    33.0        Alive  \n",
       "495           Low                   268.0        Alive  \n",
       "496  Intermediate                    73.0         Dead  \n",
       "497          High                   104.0        Alive  \n",
       "498          High                   280.0        Alive  \n",
       "\n",
       "[907 rows x 14 columns]"
      ]
     },
     "execution_count": 138,
     "metadata": {},
     "output_type": "execute_result"
    }
   ],
   "source": [
    "neuro_comb5"
   ]
  },
  {
   "cell_type": "code",
   "execution_count": 140,
   "id": "c65bb3a2-9444-4042-af7d-0b474c47705f",
   "metadata": {},
   "outputs": [],
   "source": [
    "neuro_comb5.to_csv('./Documents/adrenal_gland_cancer/neuroblastoma_dataset_transformed.csv')"
   ]
  },
  {
   "cell_type": "code",
   "execution_count": null,
   "id": "3ce3328b-454b-42c9-b6c6-dccfcaba79f0",
   "metadata": {},
   "outputs": [],
   "source": []
  }
 ],
 "metadata": {
  "kernelspec": {
   "display_name": "Python [conda env:base] *",
   "language": "python",
   "name": "conda-base-py"
  },
  "language_info": {
   "codemirror_mode": {
    "name": "ipython",
    "version": 3
   },
   "file_extension": ".py",
   "mimetype": "text/x-python",
   "name": "python",
   "nbconvert_exporter": "python",
   "pygments_lexer": "ipython3",
   "version": "3.12.7"
  }
 },
 "nbformat": 4,
 "nbformat_minor": 5
}
